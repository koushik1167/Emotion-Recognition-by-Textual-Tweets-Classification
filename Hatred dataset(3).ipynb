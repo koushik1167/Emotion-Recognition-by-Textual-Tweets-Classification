{
 "cells": [
  {
   "cell_type": "code",
   "execution_count": 1,
   "id": "fefbf272",
   "metadata": {},
   "outputs": [],
   "source": [
    "import pandas as pd\n",
    "import numpy as np\n",
    "from matplotlib import pyplot as plt\n",
    "import seaborn as sns"
   ]
  },
  {
   "cell_type": "code",
   "execution_count": 2,
   "id": "206b9e48",
   "metadata": {},
   "outputs": [],
   "source": [
    "df = pd.read_csv('train.csv',encoding='ISO-8859-1')"
   ]
  },
  {
   "cell_type": "code",
   "execution_count": 3,
   "id": "f43ac8dc",
   "metadata": {},
   "outputs": [
    {
     "data": {
      "text/html": [
       "<div>\n",
       "<style scoped>\n",
       "    .dataframe tbody tr th:only-of-type {\n",
       "        vertical-align: middle;\n",
       "    }\n",
       "\n",
       "    .dataframe tbody tr th {\n",
       "        vertical-align: top;\n",
       "    }\n",
       "\n",
       "    .dataframe thead th {\n",
       "        text-align: right;\n",
       "    }\n",
       "</style>\n",
       "<table border=\"1\" class=\"dataframe\">\n",
       "  <thead>\n",
       "    <tr style=\"text-align: right;\">\n",
       "      <th></th>\n",
       "      <th>id</th>\n",
       "      <th>label</th>\n",
       "      <th>tweet</th>\n",
       "    </tr>\n",
       "  </thead>\n",
       "  <tbody>\n",
       "    <tr>\n",
       "      <th>0</th>\n",
       "      <td>1</td>\n",
       "      <td>0</td>\n",
       "      <td>@user when a father is dysfunctional and is s...</td>\n",
       "    </tr>\n",
       "    <tr>\n",
       "      <th>1</th>\n",
       "      <td>2</td>\n",
       "      <td>0</td>\n",
       "      <td>@user @user thanks for #lyft credit i can't us...</td>\n",
       "    </tr>\n",
       "    <tr>\n",
       "      <th>2</th>\n",
       "      <td>3</td>\n",
       "      <td>0</td>\n",
       "      <td>bihday your majesty</td>\n",
       "    </tr>\n",
       "    <tr>\n",
       "      <th>3</th>\n",
       "      <td>4</td>\n",
       "      <td>0</td>\n",
       "      <td>#model   i love u take with u all the time in ...</td>\n",
       "    </tr>\n",
       "    <tr>\n",
       "      <th>4</th>\n",
       "      <td>5</td>\n",
       "      <td>0</td>\n",
       "      <td>factsguide: society now    #motivation</td>\n",
       "    </tr>\n",
       "  </tbody>\n",
       "</table>\n",
       "</div>"
      ],
      "text/plain": [
       "   id  label                                              tweet\n",
       "0   1      0   @user when a father is dysfunctional and is s...\n",
       "1   2      0  @user @user thanks for #lyft credit i can't us...\n",
       "2   3      0                                bihday your majesty\n",
       "3   4      0  #model   i love u take with u all the time in ...\n",
       "4   5      0             factsguide: society now    #motivation"
      ]
     },
     "execution_count": 3,
     "metadata": {},
     "output_type": "execute_result"
    }
   ],
   "source": [
    "df.head()"
   ]
  },
  {
   "cell_type": "code",
   "execution_count": 4,
   "id": "f5206b6b",
   "metadata": {},
   "outputs": [
    {
     "data": {
      "text/plain": [
       "(31962, 3)"
      ]
     },
     "execution_count": 4,
     "metadata": {},
     "output_type": "execute_result"
    }
   ],
   "source": [
    "df.shape  "
   ]
  },
  {
   "cell_type": "code",
   "execution_count": 5,
   "id": "7416d7e4",
   "metadata": {},
   "outputs": [
    {
     "data": {
      "text/plain": [
       "id        int64\n",
       "label     int64\n",
       "tweet    object\n",
       "dtype: object"
      ]
     },
     "execution_count": 5,
     "metadata": {},
     "output_type": "execute_result"
    }
   ],
   "source": [
    "df.dtypes"
   ]
  },
  {
   "cell_type": "code",
   "execution_count": 7,
   "id": "aea6988c",
   "metadata": {},
   "outputs": [],
   "source": [
    "count3=[]\n",
    "count3.append(int(df.label.value_counts()[1]))\n",
    "count3.append(int(df.label.value_counts()[0]))"
   ]
  },
  {
   "cell_type": "code",
   "execution_count": 9,
   "id": "4843cbf6",
   "metadata": {},
   "outputs": [
    {
     "name": "stdout",
     "output_type": "stream",
     "text": [
      "[2242, 29720]\n"
     ]
    }
   ],
   "source": [
    "print(count3)"
   ]
  },
  {
   "cell_type": "code",
   "execution_count": 11,
   "id": "3b061034",
   "metadata": {},
   "outputs": [
    {
     "data": {
      "image/png": "[encoded data removed]",
      "text/plain": [
       "<Figure size 432x288 with 1 Axes>"
      ]
     },
     "metadata": {
      "needs_background": "light"
     },
     "output_type": "display_data"
    }
   ],
   "source": [
    "#PRE-DATA VISULAISATION - Graphical representation of data\n",
    "fig3=plt.figure()\n",
    "axes=fig3.add_axes([0,0,1,1])\n",
    "label3=['HATE SPEECH','NON HATE SPEECH']\n",
    "axes.bar(label3,count3)\n",
    "plt.xlabel(\"TYPE OF SPEECH\")\n",
    "plt.ylabel(\"COUNT\")\n",
    "plt.title(\"PRE-DATA VISUALISATION OF DATA\")\n",
    "plt.show()"
   ]
  },
  {
   "cell_type": "code",
   "execution_count": 12,
   "id": "0536c544",
   "metadata": {},
   "outputs": [],
   "source": [
    "#DATA PREPROCESSING\n",
    "#TOKENIZATION OF TEXT\n",
    "import re\n",
    "from nltk.corpus import stopwords\n",
    "from nltk.tokenize import sent_tokenize,word_tokenize"
   ]
  },
  {
   "cell_type": "code",
   "execution_count": 13,
   "id": "d3052eb2",
   "metadata": {},
   "outputs": [],
   "source": [
    "preprocess1_3=[]\n",
    "for each_row in range(df.shape[0]):\n",
    "    text=df['tweet'].values[each_row]\n",
    "    ctext=str(text)\n",
    "    regex=re.sub('[^A-Za-z0-9!?]', ' ', ctext)\n",
    "    preprocess1_3.append(regex)\n",
    "df[\"Preprocessed_1\"]=preprocess1_3"
   ]
  },
  {
   "cell_type": "code",
   "execution_count": 14,
   "id": "2b1b70be",
   "metadata": {},
   "outputs": [
    {
     "data": {
      "text/html": [
       "<div>\n",
       "<style scoped>\n",
       "    .dataframe tbody tr th:only-of-type {\n",
       "        vertical-align: middle;\n",
       "    }\n",
       "\n",
       "    .dataframe tbody tr th {\n",
       "        vertical-align: top;\n",
       "    }\n",
       "\n",
       "    .dataframe thead th {\n",
       "        text-align: right;\n",
       "    }\n",
       "</style>\n",
       "<table border=\"1\" class=\"dataframe\">\n",
       "  <thead>\n",
       "    <tr style=\"text-align: right;\">\n",
       "      <th></th>\n",
       "      <th>Preprocessed_1</th>\n",
       "    </tr>\n",
       "  </thead>\n",
       "  <tbody>\n",
       "    <tr>\n",
       "      <th>0</th>\n",
       "      <td>user when a father is dysfunctional and is s...</td>\n",
       "    </tr>\n",
       "    <tr>\n",
       "      <th>1</th>\n",
       "      <td>user  user thanks for  lyft credit i can t us...</td>\n",
       "    </tr>\n",
       "    <tr>\n",
       "      <th>2</th>\n",
       "      <td>bihday your majesty</td>\n",
       "    </tr>\n",
       "    <tr>\n",
       "      <th>3</th>\n",
       "      <td>model   i love u take with u all the time in ...</td>\n",
       "    </tr>\n",
       "    <tr>\n",
       "      <th>4</th>\n",
       "      <td>factsguide  society now     motivation</td>\n",
       "    </tr>\n",
       "    <tr>\n",
       "      <th>...</th>\n",
       "      <td>...</td>\n",
       "    </tr>\n",
       "    <tr>\n",
       "      <th>31957</th>\n",
       "      <td>ate  user isz that youuu?                     ...</td>\n",
       "    </tr>\n",
       "    <tr>\n",
       "      <th>31958</th>\n",
       "      <td>to see nina turner on the airwaves trying to...</td>\n",
       "    </tr>\n",
       "    <tr>\n",
       "      <th>31959</th>\n",
       "      <td>listening to sad songs on a monday morning otw...</td>\n",
       "    </tr>\n",
       "    <tr>\n",
       "      <th>31960</th>\n",
       "      <td>user  sikh  temple vandalised in in  calgary ...</td>\n",
       "    </tr>\n",
       "    <tr>\n",
       "      <th>31961</th>\n",
       "      <td>thank you  user for you follow</td>\n",
       "    </tr>\n",
       "  </tbody>\n",
       "</table>\n",
       "<p>31962 rows × 1 columns</p>\n",
       "</div>"
      ],
      "text/plain": [
       "                                          Preprocessed_1\n",
       "0        user when a father is dysfunctional and is s...\n",
       "1       user  user thanks for  lyft credit i can t us...\n",
       "2                                    bihday your majesty\n",
       "3       model   i love u take with u all the time in ...\n",
       "4                 factsguide  society now     motivation\n",
       "...                                                  ...\n",
       "31957  ate  user isz that youuu?                     ...\n",
       "31958    to see nina turner on the airwaves trying to...\n",
       "31959  listening to sad songs on a monday morning otw...\n",
       "31960   user  sikh  temple vandalised in in  calgary ...\n",
       "31961                   thank you  user for you follow  \n",
       "\n",
       "[31962 rows x 1 columns]"
      ]
     },
     "execution_count": 14,
     "metadata": {},
     "output_type": "execute_result"
    }
   ],
   "source": [
    "df[['Preprocessed_1']]"
   ]
  },
  {
   "cell_type": "code",
   "execution_count": 15,
   "id": "06a3e866",
   "metadata": {},
   "outputs": [],
   "source": [
    "preprocess2_3=[]\n",
    "for each_row in range(df.shape[0]):\n",
    "    text=df['Preprocessed_1'].values[each_row]\n",
    "    ctext_p1=str(text)\n",
    "    regex_p1=re.sub('[^A-Za-z]', ' ', ctext_p1)\n",
    "    preprocess2_3.append(regex_p1)\n",
    "df[\"Preprocessed_2\"]=preprocess2_3"
   ]
  },
  {
   "cell_type": "code",
   "execution_count": 16,
   "id": "0a8ab39d",
   "metadata": {
    "scrolled": true
   },
   "outputs": [
    {
     "data": {
      "text/html": [
       "<div>\n",
       "<style scoped>\n",
       "    .dataframe tbody tr th:only-of-type {\n",
       "        vertical-align: middle;\n",
       "    }\n",
       "\n",
       "    .dataframe tbody tr th {\n",
       "        vertical-align: top;\n",
       "    }\n",
       "\n",
       "    .dataframe thead th {\n",
       "        text-align: right;\n",
       "    }\n",
       "</style>\n",
       "<table border=\"1\" class=\"dataframe\">\n",
       "  <thead>\n",
       "    <tr style=\"text-align: right;\">\n",
       "      <th></th>\n",
       "      <th>Preprocessed_2</th>\n",
       "    </tr>\n",
       "  </thead>\n",
       "  <tbody>\n",
       "    <tr>\n",
       "      <th>0</th>\n",
       "      <td>user when a father is dysfunctional and is s...</td>\n",
       "    </tr>\n",
       "    <tr>\n",
       "      <th>1</th>\n",
       "      <td>user  user thanks for  lyft credit i can t us...</td>\n",
       "    </tr>\n",
       "    <tr>\n",
       "      <th>2</th>\n",
       "      <td>bihday your majesty</td>\n",
       "    </tr>\n",
       "    <tr>\n",
       "      <th>3</th>\n",
       "      <td>model   i love u take with u all the time in ...</td>\n",
       "    </tr>\n",
       "    <tr>\n",
       "      <th>4</th>\n",
       "      <td>factsguide  society now     motivation</td>\n",
       "    </tr>\n",
       "    <tr>\n",
       "      <th>...</th>\n",
       "      <td>...</td>\n",
       "    </tr>\n",
       "    <tr>\n",
       "      <th>31957</th>\n",
       "      <td>ate  user isz that youuu                      ...</td>\n",
       "    </tr>\n",
       "    <tr>\n",
       "      <th>31958</th>\n",
       "      <td>to see nina turner on the airwaves trying to...</td>\n",
       "    </tr>\n",
       "    <tr>\n",
       "      <th>31959</th>\n",
       "      <td>listening to sad songs on a monday morning otw...</td>\n",
       "    </tr>\n",
       "    <tr>\n",
       "      <th>31960</th>\n",
       "      <td>user  sikh  temple vandalised in in  calgary ...</td>\n",
       "    </tr>\n",
       "    <tr>\n",
       "      <th>31961</th>\n",
       "      <td>thank you  user for you follow</td>\n",
       "    </tr>\n",
       "  </tbody>\n",
       "</table>\n",
       "<p>31962 rows × 1 columns</p>\n",
       "</div>"
      ],
      "text/plain": [
       "                                          Preprocessed_2\n",
       "0        user when a father is dysfunctional and is s...\n",
       "1       user  user thanks for  lyft credit i can t us...\n",
       "2                                    bihday your majesty\n",
       "3       model   i love u take with u all the time in ...\n",
       "4                 factsguide  society now     motivation\n",
       "...                                                  ...\n",
       "31957  ate  user isz that youuu                      ...\n",
       "31958    to see nina turner on the airwaves trying to...\n",
       "31959  listening to sad songs on a monday morning otw...\n",
       "31960   user  sikh  temple vandalised in in  calgary ...\n",
       "31961                   thank you  user for you follow  \n",
       "\n",
       "[31962 rows x 1 columns]"
      ]
     },
     "execution_count": 16,
     "metadata": {},
     "output_type": "execute_result"
    }
   ],
   "source": [
    "df[['Preprocessed_2']]"
   ]
  },
  {
   "cell_type": "code",
   "execution_count": 17,
   "id": "311c9cbb",
   "metadata": {},
   "outputs": [],
   "source": [
    "preprocess3_3=[]\n",
    "for each_row in range(df.shape[0]):\n",
    "    text=df['Preprocessed_2'].values[each_row]\n",
    "    ctext_p2=str(text)\n",
    "    regex_p2=ctext_p2.lower()\n",
    "    preprocess3_3.append(regex_p2)\n",
    "df[\"Preprocessed_3\"]=preprocess3_3"
   ]
  },
  {
   "cell_type": "code",
   "execution_count": 18,
   "id": "0fcc8bac",
   "metadata": {},
   "outputs": [
    {
     "data": {
      "text/html": [
       "<div>\n",
       "<style scoped>\n",
       "    .dataframe tbody tr th:only-of-type {\n",
       "        vertical-align: middle;\n",
       "    }\n",
       "\n",
       "    .dataframe tbody tr th {\n",
       "        vertical-align: top;\n",
       "    }\n",
       "\n",
       "    .dataframe thead th {\n",
       "        text-align: right;\n",
       "    }\n",
       "</style>\n",
       "<table border=\"1\" class=\"dataframe\">\n",
       "  <thead>\n",
       "    <tr style=\"text-align: right;\">\n",
       "      <th></th>\n",
       "      <th>Preprocessed_3</th>\n",
       "    </tr>\n",
       "  </thead>\n",
       "  <tbody>\n",
       "    <tr>\n",
       "      <th>0</th>\n",
       "      <td>user when a father is dysfunctional and is s...</td>\n",
       "    </tr>\n",
       "    <tr>\n",
       "      <th>1</th>\n",
       "      <td>user  user thanks for  lyft credit i can t us...</td>\n",
       "    </tr>\n",
       "    <tr>\n",
       "      <th>2</th>\n",
       "      <td>bihday your majesty</td>\n",
       "    </tr>\n",
       "    <tr>\n",
       "      <th>3</th>\n",
       "      <td>model   i love u take with u all the time in ...</td>\n",
       "    </tr>\n",
       "    <tr>\n",
       "      <th>4</th>\n",
       "      <td>factsguide  society now     motivation</td>\n",
       "    </tr>\n",
       "    <tr>\n",
       "      <th>...</th>\n",
       "      <td>...</td>\n",
       "    </tr>\n",
       "    <tr>\n",
       "      <th>31957</th>\n",
       "      <td>ate  user isz that youuu                      ...</td>\n",
       "    </tr>\n",
       "    <tr>\n",
       "      <th>31958</th>\n",
       "      <td>to see nina turner on the airwaves trying to...</td>\n",
       "    </tr>\n",
       "    <tr>\n",
       "      <th>31959</th>\n",
       "      <td>listening to sad songs on a monday morning otw...</td>\n",
       "    </tr>\n",
       "    <tr>\n",
       "      <th>31960</th>\n",
       "      <td>user  sikh  temple vandalised in in  calgary ...</td>\n",
       "    </tr>\n",
       "    <tr>\n",
       "      <th>31961</th>\n",
       "      <td>thank you  user for you follow</td>\n",
       "    </tr>\n",
       "  </tbody>\n",
       "</table>\n",
       "<p>31962 rows × 1 columns</p>\n",
       "</div>"
      ],
      "text/plain": [
       "                                          Preprocessed_3\n",
       "0        user when a father is dysfunctional and is s...\n",
       "1       user  user thanks for  lyft credit i can t us...\n",
       "2                                    bihday your majesty\n",
       "3       model   i love u take with u all the time in ...\n",
       "4                 factsguide  society now     motivation\n",
       "...                                                  ...\n",
       "31957  ate  user isz that youuu                      ...\n",
       "31958    to see nina turner on the airwaves trying to...\n",
       "31959  listening to sad songs on a monday morning otw...\n",
       "31960   user  sikh  temple vandalised in in  calgary ...\n",
       "31961                   thank you  user for you follow  \n",
       "\n",
       "[31962 rows x 1 columns]"
      ]
     },
     "execution_count": 18,
     "metadata": {},
     "output_type": "execute_result"
    }
   ],
   "source": [
    "df[['Preprocessed_3']]"
   ]
  },
  {
   "cell_type": "code",
   "execution_count": 19,
   "id": "aeb01056",
   "metadata": {},
   "outputs": [],
   "source": [
    "from nltk.corpus import stopwords\n",
    "from nltk.tokenize import word_tokenize,sent_tokenize\n",
    "stopwords_list=stopwords.words('english')"
   ]
  },
  {
   "cell_type": "code",
   "execution_count": 20,
   "id": "199c4050",
   "metadata": {},
   "outputs": [],
   "source": [
    "preprocess4_3=[]\n",
    "for each_row in range(df.shape[0]):\n",
    "    text=df['Preprocessed_3'].values[each_row]\n",
    "    tokenized_words=word_tokenize(text)\n",
    "    clean_words=[]\n",
    "    for each_word in tokenized_words:\n",
    "        if not each_word in stopwords_list:\n",
    "            clean_words.append(each_word)\n",
    "    dre=''\n",
    "    for each_data in clean_words:\n",
    "        dre=dre+str(each_data)+' '\n",
    "    preprocess4_3.append(dre)\n",
    "df['Preprocessed_4']=preprocess4_3"
   ]
  },
  {
   "cell_type": "code",
   "execution_count": 21,
   "id": "878d3501",
   "metadata": {},
   "outputs": [
    {
     "data": {
      "text/html": [
       "<div>\n",
       "<style scoped>\n",
       "    .dataframe tbody tr th:only-of-type {\n",
       "        vertical-align: middle;\n",
       "    }\n",
       "\n",
       "    .dataframe tbody tr th {\n",
       "        vertical-align: top;\n",
       "    }\n",
       "\n",
       "    .dataframe thead th {\n",
       "        text-align: right;\n",
       "    }\n",
       "</style>\n",
       "<table border=\"1\" class=\"dataframe\">\n",
       "  <thead>\n",
       "    <tr style=\"text-align: right;\">\n",
       "      <th></th>\n",
       "      <th>Preprocessed_4</th>\n",
       "    </tr>\n",
       "  </thead>\n",
       "  <tbody>\n",
       "    <tr>\n",
       "      <th>0</th>\n",
       "      <td>user father dysfunctional selfish drags kids d...</td>\n",
       "    </tr>\n",
       "    <tr>\n",
       "      <th>1</th>\n",
       "      <td>user user thanks lyft credit use cause offer w...</td>\n",
       "    </tr>\n",
       "    <tr>\n",
       "      <th>2</th>\n",
       "      <td>bihday majesty</td>\n",
       "    </tr>\n",
       "    <tr>\n",
       "      <th>3</th>\n",
       "      <td>model love u take u time ur</td>\n",
       "    </tr>\n",
       "    <tr>\n",
       "      <th>4</th>\n",
       "      <td>factsguide society motivation</td>\n",
       "    </tr>\n",
       "    <tr>\n",
       "      <th>...</th>\n",
       "      <td>...</td>\n",
       "    </tr>\n",
       "    <tr>\n",
       "      <th>31957</th>\n",
       "      <td>ate user isz youuu</td>\n",
       "    </tr>\n",
       "    <tr>\n",
       "      <th>31958</th>\n",
       "      <td>see nina turner airwaves trying wrap mantle ge...</td>\n",
       "    </tr>\n",
       "    <tr>\n",
       "      <th>31959</th>\n",
       "      <td>listening sad songs monday morning otw work sad</td>\n",
       "    </tr>\n",
       "    <tr>\n",
       "      <th>31960</th>\n",
       "      <td>user sikh temple vandalised calgary wso condem...</td>\n",
       "    </tr>\n",
       "    <tr>\n",
       "      <th>31961</th>\n",
       "      <td>thank user follow</td>\n",
       "    </tr>\n",
       "  </tbody>\n",
       "</table>\n",
       "<p>31962 rows × 1 columns</p>\n",
       "</div>"
      ],
      "text/plain": [
       "                                          Preprocessed_4\n",
       "0      user father dysfunctional selfish drags kids d...\n",
       "1      user user thanks lyft credit use cause offer w...\n",
       "2                                        bihday majesty \n",
       "3                           model love u take u time ur \n",
       "4                         factsguide society motivation \n",
       "...                                                  ...\n",
       "31957                                ate user isz youuu \n",
       "31958  see nina turner airwaves trying wrap mantle ge...\n",
       "31959   listening sad songs monday morning otw work sad \n",
       "31960  user sikh temple vandalised calgary wso condem...\n",
       "31961                                 thank user follow \n",
       "\n",
       "[31962 rows x 1 columns]"
      ]
     },
     "execution_count": 21,
     "metadata": {},
     "output_type": "execute_result"
    }
   ],
   "source": [
    "df[['Preprocessed_4']]"
   ]
  },
  {
   "cell_type": "code",
   "execution_count": 22,
   "id": "06aeecf4",
   "metadata": {},
   "outputs": [],
   "source": [
    "from nltk.stem import WordNetLemmatizer\n",
    "lm=WordNetLemmatizer()"
   ]
  },
  {
   "cell_type": "code",
   "execution_count": 23,
   "id": "a1045012",
   "metadata": {},
   "outputs": [],
   "source": [
    "preprocess5_3=[]\n",
    "for each_row in range(df.shape[0]):\n",
    "    text=df['Preprocessed_4'].values[each_row]\n",
    "    tokenized_words=word_tokenize(text)\n",
    "    clean_words=[]\n",
    "    for each_word in tokenized_words:\n",
    "        clean_words.append(lm.lemmatize(each_word))\n",
    "    dre=''\n",
    "    for each_data in clean_words:\n",
    "        dre=dre+str(each_data)+' '\n",
    "    preprocess5_3.append(dre)\n",
    "df['Preprocessed_5']=preprocess5_3"
   ]
  },
  {
   "cell_type": "code",
   "execution_count": 24,
   "id": "53e64fa0",
   "metadata": {},
   "outputs": [
    {
     "data": {
      "text/html": [
       "<div>\n",
       "<style scoped>\n",
       "    .dataframe tbody tr th:only-of-type {\n",
       "        vertical-align: middle;\n",
       "    }\n",
       "\n",
       "    .dataframe tbody tr th {\n",
       "        vertical-align: top;\n",
       "    }\n",
       "\n",
       "    .dataframe thead th {\n",
       "        text-align: right;\n",
       "    }\n",
       "</style>\n",
       "<table border=\"1\" class=\"dataframe\">\n",
       "  <thead>\n",
       "    <tr style=\"text-align: right;\">\n",
       "      <th></th>\n",
       "      <th>Preprocessed_5</th>\n",
       "    </tr>\n",
       "  </thead>\n",
       "  <tbody>\n",
       "    <tr>\n",
       "      <th>0</th>\n",
       "      <td>user father dysfunctional selfish drag kid dys...</td>\n",
       "    </tr>\n",
       "    <tr>\n",
       "      <th>1</th>\n",
       "      <td>user user thanks lyft credit use cause offer w...</td>\n",
       "    </tr>\n",
       "    <tr>\n",
       "      <th>2</th>\n",
       "      <td>bihday majesty</td>\n",
       "    </tr>\n",
       "    <tr>\n",
       "      <th>3</th>\n",
       "      <td>model love u take u time ur</td>\n",
       "    </tr>\n",
       "    <tr>\n",
       "      <th>4</th>\n",
       "      <td>factsguide society motivation</td>\n",
       "    </tr>\n",
       "    <tr>\n",
       "      <th>...</th>\n",
       "      <td>...</td>\n",
       "    </tr>\n",
       "    <tr>\n",
       "      <th>31957</th>\n",
       "      <td>ate user isz youuu</td>\n",
       "    </tr>\n",
       "    <tr>\n",
       "      <th>31958</th>\n",
       "      <td>see nina turner airwave trying wrap mantle gen...</td>\n",
       "    </tr>\n",
       "    <tr>\n",
       "      <th>31959</th>\n",
       "      <td>listening sad song monday morning otw work sad</td>\n",
       "    </tr>\n",
       "    <tr>\n",
       "      <th>31960</th>\n",
       "      <td>user sikh temple vandalised calgary wso condem...</td>\n",
       "    </tr>\n",
       "    <tr>\n",
       "      <th>31961</th>\n",
       "      <td>thank user follow</td>\n",
       "    </tr>\n",
       "  </tbody>\n",
       "</table>\n",
       "<p>31962 rows × 1 columns</p>\n",
       "</div>"
      ],
      "text/plain": [
       "                                          Preprocessed_5\n",
       "0      user father dysfunctional selfish drag kid dys...\n",
       "1      user user thanks lyft credit use cause offer w...\n",
       "2                                        bihday majesty \n",
       "3                           model love u take u time ur \n",
       "4                         factsguide society motivation \n",
       "...                                                  ...\n",
       "31957                                ate user isz youuu \n",
       "31958  see nina turner airwave trying wrap mantle gen...\n",
       "31959    listening sad song monday morning otw work sad \n",
       "31960  user sikh temple vandalised calgary wso condem...\n",
       "31961                                 thank user follow \n",
       "\n",
       "[31962 rows x 1 columns]"
      ]
     },
     "execution_count": 24,
     "metadata": {},
     "output_type": "execute_result"
    }
   ],
   "source": [
    "df[['Preprocessed_5']]"
   ]
  },
  {
   "cell_type": "code",
   "execution_count": 25,
   "id": "6fe48845",
   "metadata": {},
   "outputs": [],
   "source": [
    "#removing empty rows\n",
    "df=df[df['Preprocessed_5']!='']"
   ]
  },
  {
   "cell_type": "code",
   "execution_count": 26,
   "id": "fcc73fec",
   "metadata": {},
   "outputs": [
    {
     "data": {
      "text/plain": [
       "(31949, 8)"
      ]
     },
     "execution_count": 26,
     "metadata": {},
     "output_type": "execute_result"
    }
   ],
   "source": [
    "df.shape"
   ]
  },
  {
   "cell_type": "code",
   "execution_count": 27,
   "id": "2ae674ff",
   "metadata": {},
   "outputs": [
    {
     "data": {
      "text/html": [
       "<div>\n",
       "<style scoped>\n",
       "    .dataframe tbody tr th:only-of-type {\n",
       "        vertical-align: middle;\n",
       "    }\n",
       "\n",
       "    .dataframe tbody tr th {\n",
       "        vertical-align: top;\n",
       "    }\n",
       "\n",
       "    .dataframe thead th {\n",
       "        text-align: right;\n",
       "    }\n",
       "</style>\n",
       "<table border=\"1\" class=\"dataframe\">\n",
       "  <thead>\n",
       "    <tr style=\"text-align: right;\">\n",
       "      <th></th>\n",
       "      <th>Preprocessed_5</th>\n",
       "    </tr>\n",
       "  </thead>\n",
       "  <tbody>\n",
       "    <tr>\n",
       "      <th>0</th>\n",
       "      <td>user father dysfunctional selfish drag kid dys...</td>\n",
       "    </tr>\n",
       "    <tr>\n",
       "      <th>1</th>\n",
       "      <td>user user thanks lyft credit use cause offer w...</td>\n",
       "    </tr>\n",
       "    <tr>\n",
       "      <th>2</th>\n",
       "      <td>bihday majesty</td>\n",
       "    </tr>\n",
       "    <tr>\n",
       "      <th>3</th>\n",
       "      <td>model love u take u time ur</td>\n",
       "    </tr>\n",
       "    <tr>\n",
       "      <th>4</th>\n",
       "      <td>factsguide society motivation</td>\n",
       "    </tr>\n",
       "    <tr>\n",
       "      <th>...</th>\n",
       "      <td>...</td>\n",
       "    </tr>\n",
       "    <tr>\n",
       "      <th>31957</th>\n",
       "      <td>ate user isz youuu</td>\n",
       "    </tr>\n",
       "    <tr>\n",
       "      <th>31958</th>\n",
       "      <td>see nina turner airwave trying wrap mantle gen...</td>\n",
       "    </tr>\n",
       "    <tr>\n",
       "      <th>31959</th>\n",
       "      <td>listening sad song monday morning otw work sad</td>\n",
       "    </tr>\n",
       "    <tr>\n",
       "      <th>31960</th>\n",
       "      <td>user sikh temple vandalised calgary wso condem...</td>\n",
       "    </tr>\n",
       "    <tr>\n",
       "      <th>31961</th>\n",
       "      <td>thank user follow</td>\n",
       "    </tr>\n",
       "  </tbody>\n",
       "</table>\n",
       "<p>31949 rows × 1 columns</p>\n",
       "</div>"
      ],
      "text/plain": [
       "                                          Preprocessed_5\n",
       "0      user father dysfunctional selfish drag kid dys...\n",
       "1      user user thanks lyft credit use cause offer w...\n",
       "2                                        bihday majesty \n",
       "3                           model love u take u time ur \n",
       "4                         factsguide society motivation \n",
       "...                                                  ...\n",
       "31957                                ate user isz youuu \n",
       "31958  see nina turner airwave trying wrap mantle gen...\n",
       "31959    listening sad song monday morning otw work sad \n",
       "31960  user sikh temple vandalised calgary wso condem...\n",
       "31961                                 thank user follow \n",
       "\n",
       "[31949 rows x 1 columns]"
      ]
     },
     "execution_count": 27,
     "metadata": {},
     "output_type": "execute_result"
    }
   ],
   "source": [
    "df[['Preprocessed_5']]"
   ]
  },
  {
   "cell_type": "code",
   "execution_count": 28,
   "id": "b03bb57a",
   "metadata": {},
   "outputs": [],
   "source": [
    "per=list()\n",
    "df2 = pd.DataFrame()\n",
    "df2['Clean Tweets']=df['Preprocessed_5']\n",
    "df2['label']=df['label']"
   ]
  },
  {
   "cell_type": "code",
   "execution_count": 29,
   "id": "a13e14e4",
   "metadata": {},
   "outputs": [
    {
     "data": {
      "text/html": [
       "<div>\n",
       "<style scoped>\n",
       "    .dataframe tbody tr th:only-of-type {\n",
       "        vertical-align: middle;\n",
       "    }\n",
       "\n",
       "    .dataframe tbody tr th {\n",
       "        vertical-align: top;\n",
       "    }\n",
       "\n",
       "    .dataframe thead th {\n",
       "        text-align: right;\n",
       "    }\n",
       "</style>\n",
       "<table border=\"1\" class=\"dataframe\">\n",
       "  <thead>\n",
       "    <tr style=\"text-align: right;\">\n",
       "      <th></th>\n",
       "      <th>Clean Tweets</th>\n",
       "      <th>label</th>\n",
       "    </tr>\n",
       "  </thead>\n",
       "  <tbody>\n",
       "    <tr>\n",
       "      <th>0</th>\n",
       "      <td>user father dysfunctional selfish drag kid dys...</td>\n",
       "      <td>0</td>\n",
       "    </tr>\n",
       "    <tr>\n",
       "      <th>1</th>\n",
       "      <td>user user thanks lyft credit use cause offer w...</td>\n",
       "      <td>0</td>\n",
       "    </tr>\n",
       "    <tr>\n",
       "      <th>2</th>\n",
       "      <td>bihday majesty</td>\n",
       "      <td>0</td>\n",
       "    </tr>\n",
       "    <tr>\n",
       "      <th>3</th>\n",
       "      <td>model love u take u time ur</td>\n",
       "      <td>0</td>\n",
       "    </tr>\n",
       "    <tr>\n",
       "      <th>4</th>\n",
       "      <td>factsguide society motivation</td>\n",
       "      <td>0</td>\n",
       "    </tr>\n",
       "    <tr>\n",
       "      <th>...</th>\n",
       "      <td>...</td>\n",
       "      <td>...</td>\n",
       "    </tr>\n",
       "    <tr>\n",
       "      <th>31957</th>\n",
       "      <td>ate user isz youuu</td>\n",
       "      <td>0</td>\n",
       "    </tr>\n",
       "    <tr>\n",
       "      <th>31958</th>\n",
       "      <td>see nina turner airwave trying wrap mantle gen...</td>\n",
       "      <td>0</td>\n",
       "    </tr>\n",
       "    <tr>\n",
       "      <th>31959</th>\n",
       "      <td>listening sad song monday morning otw work sad</td>\n",
       "      <td>0</td>\n",
       "    </tr>\n",
       "    <tr>\n",
       "      <th>31960</th>\n",
       "      <td>user sikh temple vandalised calgary wso condem...</td>\n",
       "      <td>1</td>\n",
       "    </tr>\n",
       "    <tr>\n",
       "      <th>31961</th>\n",
       "      <td>thank user follow</td>\n",
       "      <td>0</td>\n",
       "    </tr>\n",
       "  </tbody>\n",
       "</table>\n",
       "<p>31949 rows × 2 columns</p>\n",
       "</div>"
      ],
      "text/plain": [
       "                                            Clean Tweets  label\n",
       "0      user father dysfunctional selfish drag kid dys...      0\n",
       "1      user user thanks lyft credit use cause offer w...      0\n",
       "2                                        bihday majesty       0\n",
       "3                           model love u take u time ur       0\n",
       "4                         factsguide society motivation       0\n",
       "...                                                  ...    ...\n",
       "31957                                ate user isz youuu       0\n",
       "31958  see nina turner airwave trying wrap mantle gen...      0\n",
       "31959    listening sad song monday morning otw work sad       0\n",
       "31960  user sikh temple vandalised calgary wso condem...      1\n",
       "31961                                 thank user follow       0\n",
       "\n",
       "[31949 rows x 2 columns]"
      ]
     },
     "execution_count": 29,
     "metadata": {},
     "output_type": "execute_result"
    }
   ],
   "source": [
    "df2"
   ]
  },
  {
   "cell_type": "code",
   "execution_count": 30,
   "id": "9c99a275",
   "metadata": {},
   "outputs": [],
   "source": [
    "#FEATURE EXTRACTION - Mapping from textual data into real valued vectors for making compatible with model\n",
    "from sklearn.feature_extraction.text import TfidfVectorizer\n",
    "vectorizer=TfidfVectorizer()        #Loading tfidf function to our variable"
   ]
  },
  {
   "cell_type": "code",
   "execution_count": 31,
   "id": "2eb34e1e",
   "metadata": {},
   "outputs": [],
   "source": [
    "#Fitting and transforming the vectorizer to our data\n",
    "x=df2['Clean Tweets']\n",
    "vectorizer.fit(x)\n",
    "\n",
    "x=vectorizer.transform(x)   #Transforming all the text data and gives corresponding tf-idf value"
   ]
  },
  {
   "cell_type": "code",
   "execution_count": 32,
   "id": "23b95920",
   "metadata": {},
   "outputs": [
    {
     "name": "stdout",
     "output_type": "stream",
     "text": [
      "  (0, 32641)\t0.09336564670639415\n",
      "  (0, 27238)\t0.40025792665287996\n",
      "  (0, 26489)\t0.3015793959145715\n",
      "  (0, 16692)\t0.26516952206187433\n",
      "  (0, 10380)\t0.21535943454552325\n",
      "  (0, 8965)\t0.4853272489249047\n",
      "  (0, 8964)\t0.46689974500522735\n",
      "  (0, 8667)\t0.41218180965829077\n",
      "  (1, 33826)\t0.33805875890681814\n",
      "  (1, 32736)\t0.31459259774466863\n",
      "  (1, 32641)\t0.13909793046851743\n",
      "  (1, 32632)\t0.22406059395249503\n",
      "  (1, 30687)\t0.19122188733611725\n",
      "  (1, 23104)\t0.33805875890681814\n",
      "  (1, 22053)\t0.2636727879510458\n",
      "  (1, 18521)\t0.3243319345910815\n",
      "  (1, 12116)\t0.34779809575323106\n",
      "  (1, 8158)\t0.3615249200689677\n",
      "  (1, 6836)\t0.2890740194540391\n",
      "  (1, 5002)\t0.2374968197943635\n",
      "  (2, 18711)\t0.8811678459719198\n",
      "  (2, 3158)\t0.47280358207738543\n",
      "  (3, 32596)\t0.5003660567109992\n",
      "  (3, 31233)\t0.4041968458765561\n",
      "  (3, 30185)\t0.4619132476539622\n",
      "  :\t:\n",
      "  (31945, 18920)\t0.32272626663528153\n",
      "  (31945, 17698)\t0.13208754139127823\n",
      "  (31945, 14995)\t0.27408701427884813\n",
      "  (31945, 13791)\t0.22312190177427593\n",
      "  (31945, 12045)\t0.2639183970855316\n",
      "  (31945, 5483)\t0.32272626663528153\n",
      "  (31945, 583)\t0.32272626663528153\n",
      "  (31946, 34347)\t0.251862213992677\n",
      "  (31946, 28599)\t0.32037593966282074\n",
      "  (31946, 26597)\t0.5360860576209453\n",
      "  (31946, 22529)\t0.4874716052001062\n",
      "  (31946, 20156)\t0.26256061578623235\n",
      "  (31946, 20025)\t0.31051591837378817\n",
      "  (31946, 17826)\t0.3788794569125821\n",
      "  (31947, 34508)\t0.38711668393209026\n",
      "  (31947, 32742)\t0.38711668393209026\n",
      "  (31947, 32641)\t0.09847246098664866\n",
      "  (31947, 30544)\t0.3733270256041213\n",
      "  (31947, 27878)\t0.38537344917632155\n",
      "  (31947, 6271)\t0.38711668393209026\n",
      "  (31947, 4590)\t0.3789727990952892\n",
      "  (31947, 207)\t0.3304830520025283\n",
      "  (31948, 32641)\t0.2504334644891969\n",
      "  (31948, 30676)\t0.6897570701123933\n",
      "  (31948, 11121)\t0.6793513554074245\n"
     ]
    }
   ],
   "source": [
    "print(x)"
   ]
  },
  {
   "cell_type": "code",
   "execution_count": 33,
   "id": "8458d670",
   "metadata": {},
   "outputs": [],
   "source": [
    "from sklearn.model_selection import train_test_split"
   ]
  },
  {
   "cell_type": "code",
   "execution_count": 34,
   "id": "bf67a9b5",
   "metadata": {},
   "outputs": [],
   "source": [
    "x_train,x_test,y_train,y_test=train_test_split(x,df2['label'],test_size=0.25,train_size=0.75)"
   ]
  },
  {
   "cell_type": "code",
   "execution_count": 35,
   "id": "7bf01e7b",
   "metadata": {},
   "outputs": [
    {
     "data": {
      "text/plain": [
       "(23961, 35101)"
      ]
     },
     "execution_count": 35,
     "metadata": {},
     "output_type": "execute_result"
    }
   ],
   "source": [
    "x_train.shape"
   ]
  },
  {
   "cell_type": "code",
   "execution_count": 36,
   "id": "ecf8a30c",
   "metadata": {},
   "outputs": [
    {
     "data": {
      "text/plain": [
       "(7988, 35101)"
      ]
     },
     "execution_count": 36,
     "metadata": {},
     "output_type": "execute_result"
    }
   ],
   "source": [
    "x_test.shape"
   ]
  },
  {
   "cell_type": "code",
   "execution_count": 38,
   "id": "707c295f",
   "metadata": {},
   "outputs": [
    {
     "data": {
      "text/plain": [
       "(23961,)"
      ]
     },
     "execution_count": 38,
     "metadata": {},
     "output_type": "execute_result"
    }
   ],
   "source": [
    "y_train.shape"
   ]
  },
  {
   "cell_type": "code",
   "execution_count": 39,
   "id": "f56d1ecb",
   "metadata": {},
   "outputs": [
    {
     "data": {
      "text/plain": [
       "(7988,)"
      ]
     },
     "execution_count": 39,
     "metadata": {},
     "output_type": "execute_result"
    }
   ],
   "source": [
    "y_test.shape"
   ]
  },
  {
   "cell_type": "code",
   "execution_count": 40,
   "id": "40b394a1",
   "metadata": {},
   "outputs": [],
   "source": [
    "#RANDOM FOREST\n",
    "from sklearn.ensemble import RandomForestClassifier\n",
    "rfc=RandomForestClassifier()"
   ]
  },
  {
   "cell_type": "code",
   "execution_count": 41,
   "id": "974c74d0",
   "metadata": {},
   "outputs": [
    {
     "data": {
      "text/plain": [
       "RandomForestClassifier()"
      ]
     },
     "execution_count": 41,
     "metadata": {},
     "output_type": "execute_result"
    }
   ],
   "source": [
    "rfc.fit(x_train,y_train)"
   ]
  },
  {
   "cell_type": "code",
   "execution_count": 42,
   "id": "fcc9881e",
   "metadata": {},
   "outputs": [],
   "source": [
    "y_pred1=rfc.predict(x_test)"
   ]
  },
  {
   "cell_type": "code",
   "execution_count": 43,
   "id": "fd94d159",
   "metadata": {},
   "outputs": [],
   "source": [
    "from sklearn.metrics import accuracy_score\n",
    "from sklearn.metrics import precision_score\n",
    "from sklearn.metrics import recall_score\n",
    "from sklearn.metrics import f1_score"
   ]
  },
  {
   "cell_type": "code",
   "execution_count": 45,
   "id": "31730ab8",
   "metadata": {},
   "outputs": [],
   "source": [
    "rf1=accuracy_score(y_pred1,y_test)\n",
    "rf2=precision_score(y_pred1,y_test,average='weighted')\n",
    "rf3=recall_score(y_pred1,y_test,average='weighted')\n",
    "rf4=f1_score(y_pred1,y_test,average='weighted')"
   ]
  },
  {
   "cell_type": "code",
   "execution_count": 46,
   "id": "12339615",
   "metadata": {},
   "outputs": [
    {
     "name": "stdout",
     "output_type": "stream",
     "text": [
      "0.9611917876815222 0.9786942271453977 0.9611917876815222 0.9670837244172958\n"
     ]
    }
   ],
   "source": [
    "print(rf1,rf2,rf3,rf4)"
   ]
  },
  {
   "cell_type": "code",
   "execution_count": 47,
   "id": "a65517a5",
   "metadata": {},
   "outputs": [],
   "source": [
    "#LOGISTIC REGRESSION\n",
    "from sklearn.linear_model import LogisticRegression\n",
    "lrc=LogisticRegression(max_iter=250)"
   ]
  },
  {
   "cell_type": "code",
   "execution_count": 48,
   "id": "63e200cc",
   "metadata": {},
   "outputs": [
    {
     "data": {
      "text/plain": [
       "LogisticRegression(max_iter=250)"
      ]
     },
     "execution_count": 48,
     "metadata": {},
     "output_type": "execute_result"
    }
   ],
   "source": [
    "lrc.fit(x_train,y_train)"
   ]
  },
  {
   "cell_type": "code",
   "execution_count": 49,
   "id": "67f04910",
   "metadata": {},
   "outputs": [],
   "source": [
    "y_pred2=lrc.predict(x_test)"
   ]
  },
  {
   "cell_type": "code",
   "execution_count": 50,
   "id": "208b65d7",
   "metadata": {},
   "outputs": [],
   "source": [
    "lrc1=accuracy_score(y_pred2,y_test)\n",
    "lrc2=precision_score(y_pred2,y_test)\n",
    "lrc3=recall_score(y_pred2,y_test)\n",
    "lrc4=f1_score(y_pred2,y_test)"
   ]
  },
  {
   "cell_type": "code",
   "execution_count": 51,
   "id": "b344e94c",
   "metadata": {},
   "outputs": [
    {
     "name": "stdout",
     "output_type": "stream",
     "text": [
      "0.9479218828242364 0.27586206896551724 0.8994082840236687 0.4222222222222222\n"
     ]
    }
   ],
   "source": [
    "print(lrc1,lrc2,lrc3,lrc4)"
   ]
  },
  {
   "cell_type": "code",
   "execution_count": 52,
   "id": "6954d5a3",
   "metadata": {},
   "outputs": [],
   "source": [
    "#NAIVEBayes\n",
    "from sklearn.naive_bayes import MultinomialNB\n",
    "nb=MultinomialNB()"
   ]
  },
  {
   "cell_type": "code",
   "execution_count": 53,
   "id": "6638b843",
   "metadata": {},
   "outputs": [
    {
     "data": {
      "text/plain": [
       "MultinomialNB()"
      ]
     },
     "execution_count": 53,
     "metadata": {},
     "output_type": "execute_result"
    }
   ],
   "source": [
    "nb.fit(x_train,y_train)"
   ]
  },
  {
   "cell_type": "code",
   "execution_count": 54,
   "id": "dd3070de",
   "metadata": {},
   "outputs": [],
   "source": [
    "y_pred3=nb.predict(x_test)"
   ]
  },
  {
   "cell_type": "code",
   "execution_count": 55,
   "id": "0d633d05",
   "metadata": {},
   "outputs": [],
   "source": [
    "nb1=accuracy_score(y_pred3,y_test)\n",
    "nb2=precision_score(y_pred3,y_test)\n",
    "nb3=recall_score(y_pred3,y_test)\n",
    "nb4=f1_score(y_pred3,y_test)"
   ]
  },
  {
   "cell_type": "code",
   "execution_count": 56,
   "id": "c74abf17",
   "metadata": {},
   "outputs": [
    {
     "name": "stdout",
     "output_type": "stream",
     "text": [
      "0.9412869303955934 0.15063520871143377 0.9880952380952381 0.2614173228346457\n"
     ]
    }
   ],
   "source": [
    "print(nb1,nb2,nb3,nb4)"
   ]
  },
  {
   "cell_type": "code",
   "execution_count": 57,
   "id": "df59d12d",
   "metadata": {},
   "outputs": [],
   "source": [
    "from sklearn.linear_model import SGDClassifier\n",
    "sgd=SGDClassifier()"
   ]
  },
  {
   "cell_type": "code",
   "execution_count": 58,
   "id": "788cd362",
   "metadata": {},
   "outputs": [
    {
     "data": {
      "text/plain": [
       "SGDClassifier()"
      ]
     },
     "execution_count": 58,
     "metadata": {},
     "output_type": "execute_result"
    }
   ],
   "source": [
    "sgd.fit(x_train,y_train)"
   ]
  },
  {
   "cell_type": "code",
   "execution_count": 59,
   "id": "d73e077d",
   "metadata": {},
   "outputs": [],
   "source": [
    "y_pred4=sgd.predict(x_test)"
   ]
  },
  {
   "cell_type": "code",
   "execution_count": 60,
   "id": "6445d2cd",
   "metadata": {},
   "outputs": [],
   "source": [
    "sgd1=accuracy_score(y_pred4,y_test)\n",
    "sgd2=precision_score(y_pred4,y_test)\n",
    "sgd3=recall_score(y_pred4,y_test)\n",
    "sgd4=f1_score(y_pred4,y_test)"
   ]
  },
  {
   "cell_type": "code",
   "execution_count": 61,
   "id": "d77067fd",
   "metadata": {},
   "outputs": [
    {
     "name": "stdout",
     "output_type": "stream",
     "text": [
      "0.9530545818728092 0.35390199637023595 0.9112149532710281 0.5098039215686274\n"
     ]
    }
   ],
   "source": [
    "print(sgd1,sgd2,sgd3,sgd4)"
   ]
  },
  {
   "cell_type": "code",
   "execution_count": 62,
   "id": "c8ca0fa9",
   "metadata": {},
   "outputs": [],
   "source": [
    "from sklearn.svm import SVC\n",
    "svc=SVC()"
   ]
  },
  {
   "cell_type": "code",
   "execution_count": 65,
   "id": "7cd6d417",
   "metadata": {},
   "outputs": [
    {
     "data": {
      "text/plain": [
       "Text(0.5, 1.0, 'Representation of measures')"
      ]
     },
     "execution_count": 65,
     "metadata": {},
     "output_type": "execute_result"
    },
    {
     "data": {
      "image/png": "[encoded data removed]",
      "text/plain": [
       "<Figure size 720x576 with 1 Axes>"
      ]
     },
     "metadata": {
      "needs_background": "light"
     },
     "output_type": "display_data"
    }
   ],
   "source": [
    "graph=pd.DataFrame({\"accuracy\":[lrc1,nb1,sgd1],\n",
    "                    \"precision\":[lrc2,nb2,sgd2],\n",
    "                     \"recall\":[lrc3,nb3,sgd3],\n",
    "                     \"f1_score\":[lrc4,nb4,sgd4]},\n",
    "                  index=[\"Logistic Regression\",\"Naive Bayes\",\"Stochastic Gradient Descent\"])\n",
    "graph.plot(kind='bar',figsize=(10,8))\n",
    "plt.xlabel(\"Algorithms\")\n",
    "plt.ylabel(\"Percentage\")\n",
    "plt.title(\"Representation of measures\")"
   ]
  },
  {
   "cell_type": "code",
   "execution_count": 66,
   "id": "2828a159",
   "metadata": {},
   "outputs": [
    {
     "name": "stdout",
     "output_type": "stream",
     "text": [
      "+--------+----------+-----------+--------+----------+\n",
      "| Models | Accuracy | Precision | Recall | F1_Score |\n",
      "+--------+----------+-----------+--------+----------+\n",
      "|   NB   |   94.1   |    15.1   |  98.8  |   26.1   |\n",
      "|   LR   |   94.8   |    27.6   |  89.9  |   42.2   |\n",
      "|  SGD   |   95.3   |    35.4   |  91.1  |   51.0   |\n",
      "+--------+----------+-----------+--------+----------+\n"
     ]
    }
   ],
   "source": [
    "from prettytable import PrettyTable\n",
    "\n",
    "myTable = PrettyTable([\"Models\", \"Accuracy\", \"Precision\", \"Recall\",\"F1_Score\"])\n",
    "\n",
    "# Add rows\n",
    "myTable.add_row([\"NB\", round(nb1*100,1),round(nb2*100,1),round(nb3*100,1),round(nb4*100,1)])\n",
    "myTable.add_row([\"LR\", round(lrc1*100,1),round(lrc2*100,1),round(lrc3*100,1),round(lrc4*100,1)])\n",
    "myTable.add_row([\"SGD\", round(sgd1*100,1),round(sgd2*100,1),round(sgd3*100,1),round(sgd4*100,1)])\n",
    "\n",
    "\n",
    "print(myTable)"
   ]
  },
  {
   "cell_type": "code",
   "execution_count": null,
   "id": "8ebf6442",
   "metadata": {},
   "outputs": [],
   "source": []
  }
 ],
 "metadata": {
  "kernelspec": {
   "display_name": "Python 3 (ipykernel)",
   "language": "python",
   "name": "python3"
  },
  "language_info": {
   "codemirror_mode": {
    "name": "ipython",
    "version": 3
   },
   "file_extension": ".py",
   "mimetype": "text/x-python",
   "name": "python",
   "nbconvert_exporter": "python",
   "pygments_lexer": "ipython3",
   "version": "3.10.4"
  }
 },
 "nbformat": 4,
 "nbformat_minor": 5
}
