{
  "cells": [
    {
      "cell_type": "code",
      "execution_count": 1,
      "id": "8y2nzEksqOlx",
      "metadata": {
        "colab": {
          "base_uri": "https://localhost:8080/"
        },
        "id": "8y2nzEksqOlx",
        "outputId": "80c2277d-da11-4a38-acbd-29bd1bf5a612"
      },
      "outputs": [
        {
          "name": "stdout",
          "output_type": "stream",
          "text": [
            "Mounted at /content/drive\n"
          ]
        }
      ],
      "source": [
        "from google.colab import drive\n",
        "drive.mount('/content/drive')"
      ]
    },
    {
      "cell_type": "code",
      "execution_count": 2,
      "id": "c022b9e0",
      "metadata": {
        "id": "c022b9e0"
      },
      "outputs": [],
      "source": [
        "import pandas as pd\n",
        "import numpy as np\n",
        "import matplotlib.pyplot as plt\n",
        "import seaborn as sns"
      ]
    },
    {
      "cell_type": "code",
      "execution_count": 3,
      "id": "264b2aaa",
      "metadata": {
        "id": "264b2aaa"
      },
      "outputs": [],
      "source": [
        "df=pd.read_csv('/content/drive/MyDrive/Mini Project/train.csv',encoding='ISO-8859-1')"
      ]
    },
    {
      "cell_type": "code",
      "execution_count": 4,
      "id": "Fl-UEoF8Inw4",
      "metadata": {
        "colab": {
          "base_uri": "https://localhost:8080/"
        },
        "id": "Fl-UEoF8Inw4",
        "outputId": "3c7dd64c-0388-4f78-bd49-b8459dfd42ba"
      },
      "outputs": [
        {
          "name": "stdout",
          "output_type": "stream",
          "text": [
            "<class 'pandas.core.frame.DataFrame'>\n",
            "RangeIndex: 99989 entries, 0 to 99988\n",
            "Data columns (total 3 columns):\n",
            " #   Column         Non-Null Count  Dtype \n",
            "---  ------         --------------  ----- \n",
            " 0   ItemID         99989 non-null  int64 \n",
            " 1   Sentiment      99989 non-null  int64 \n",
            " 2   SentimentText  99989 non-null  object\n",
            "dtypes: int64(2), object(1)\n",
            "memory usage: 2.3+ MB\n"
          ]
        }
      ],
      "source": [
        "df.info()"
      ]
    },
    {
      "cell_type": "code",
      "execution_count": 5,
      "id": "155b0c5a",
      "metadata": {
        "colab": {
          "base_uri": "https://localhost:8080/",
          "height": 206
        },
        "id": "155b0c5a",
        "outputId": "d829d836-bca1-48fc-a6ee-a3d9f85c802a"
      },
      "outputs": [
        {
          "data": {
            "text/html": [
              "\n",
              "  <div id=\"df-e7379563-7788-44e9-8184-a271db4d3a13\">\n",
              "    <div class=\"colab-df-container\">\n",
              "      <div>\n",
              "<style scoped>\n",
              "    .dataframe tbody tr th:only-of-type {\n",
              "        vertical-align: middle;\n",
              "    }\n",
              "\n",
              "    .dataframe tbody tr th {\n",
              "        vertical-align: top;\n",
              "    }\n",
              "\n",
              "    .dataframe thead th {\n",
              "        text-align: right;\n",
              "    }\n",
              "</style>\n",
              "<table border=\"1\" class=\"dataframe\">\n",
              "  <thead>\n",
              "    <tr style=\"text-align: right;\">\n",
              "      <th></th>\n",
              "      <th>ItemID</th>\n",
              "      <th>Sentiment</th>\n",
              "      <th>SentimentText</th>\n",
              "    </tr>\n",
              "  </thead>\n",
              "  <tbody>\n",
              "    <tr>\n",
              "      <th>0</th>\n",
              "      <td>1</td>\n",
              "      <td>0</td>\n",
              "      <td>is so sad for my APL frie...</td>\n",
              "    </tr>\n",
              "    <tr>\n",
              "      <th>1</th>\n",
              "      <td>2</td>\n",
              "      <td>0</td>\n",
              "      <td>I missed the New Moon trail...</td>\n",
              "    </tr>\n",
              "    <tr>\n",
              "      <th>2</th>\n",
              "      <td>3</td>\n",
              "      <td>1</td>\n",
              "      <td>omg its already 7:30 :O</td>\n",
              "    </tr>\n",
              "    <tr>\n",
              "      <th>3</th>\n",
              "      <td>4</td>\n",
              "      <td>0</td>\n",
              "      <td>.. Omgaga. Im sooo  im gunna CRy. I'...</td>\n",
              "    </tr>\n",
              "    <tr>\n",
              "      <th>4</th>\n",
              "      <td>5</td>\n",
              "      <td>0</td>\n",
              "      <td>i think mi bf is cheating on me!!!   ...</td>\n",
              "    </tr>\n",
              "  </tbody>\n",
              "</table>\n",
              "</div>\n",
              "      <button class=\"colab-df-convert\" onclick=\"convertToInteractive('df-e7379563-7788-44e9-8184-a271db4d3a13')\"\n",
              "              title=\"Convert this dataframe to an interactive table.\"\n",
              "              style=\"display:none;\">\n",
              "        \n",
              "  <svg xmlns=\"http://www.w3.org/2000/svg\" height=\"24px\"viewBox=\"0 0 24 24\"\n",
              "       width=\"24px\">\n",
              "    <path d=\"M0 0h24v24H0V0z\" fill=\"none\"/>\n",
              "    <path d=\"M18.56 5.44l.94 2.06.94-2.06 2.06-.94-2.06-.94-.94-2.06-.94 2.06-2.06.94zm-11 1L8.5 8.5l.94-2.06 2.06-.94-2.06-.94L8.5 2.5l-.94 2.06-2.06.94zm10 10l.94 2.06.94-2.06 2.06-.94-2.06-.94-.94-2.06-.94 2.06-2.06.94z\"/><path d=\"M17.41 7.96l-1.37-1.37c-.4-.4-.92-.59-1.43-.59-.52 0-1.04.2-1.43.59L10.3 9.45l-7.72 7.72c-.78.78-.78 2.05 0 2.83L4 21.41c.39.39.9.59 1.41.59.51 0 1.02-.2 1.41-.59l7.78-7.78 2.81-2.81c.8-.78.8-2.07 0-2.86zM5.41 20L4 18.59l7.72-7.72 1.47 1.35L5.41 20z\"/>\n",
              "  </svg>\n",
              "      </button>\n",
              "      \n",
              "  <style>\n",
              "    .colab-df-container {\n",
              "      display:flex;\n",
              "      flex-wrap:wrap;\n",
              "      gap: 12px;\n",
              "    }\n",
              "\n",
              "    .colab-df-convert {\n",
              "      background-color: #E8F0FE;\n",
              "      border: none;\n",
              "      border-radius: 50%;\n",
              "      cursor: pointer;\n",
              "      display: none;\n",
              "      fill: #1967D2;\n",
              "      height: 32px;\n",
              "      padding: 0 0 0 0;\n",
              "      width: 32px;\n",
              "    }\n",
              "\n",
              "    .colab-df-convert:hover {\n",
              "      background-color: #E2EBFA;\n",
              "      box-shadow: 0px 1px 2px rgba(60, 64, 67, 0.3), 0px 1px 3px 1px rgba(60, 64, 67, 0.15);\n",
              "      fill: #174EA6;\n",
              "    }\n",
              "\n",
              "    [theme=dark] .colab-df-convert {\n",
              "      background-color: #3B4455;\n",
              "      fill: #D2E3FC;\n",
              "    }\n",
              "\n",
              "    [theme=dark] .colab-df-convert:hover {\n",
              "      background-color: #434B5C;\n",
              "      box-shadow: 0px 1px 3px 1px rgba(0, 0, 0, 0.15);\n",
              "      filter: drop-shadow(0px 1px 2px rgba(0, 0, 0, 0.3));\n",
              "      fill: #FFFFFF;\n",
              "    }\n",
              "  </style>\n",
              "\n",
              "      <script>\n",
              "        const buttonEl =\n",
              "          document.querySelector('#df-e7379563-7788-44e9-8184-a271db4d3a13 button.colab-df-convert');\n",
              "        buttonEl.style.display =\n",
              "          google.colab.kernel.accessAllowed ? 'block' : 'none';\n",
              "\n",
              "        async function convertToInteractive(key) {\n",
              "          const element = document.querySelector('#df-e7379563-7788-44e9-8184-a271db4d3a13');\n",
              "          const dataTable =\n",
              "            await google.colab.kernel.invokeFunction('convertToInteractive',\n",
              "                                                     [key], {});\n",
              "          if (!dataTable) return;\n",
              "\n",
              "          const docLinkHtml = 'Like what you see? Visit the ' +\n",
              "            '<a target=\"_blank\" href=https://colab.research.google.com/notebooks/data_table.ipynb>data table notebook</a>'\n",
              "            + ' to learn more about interactive tables.';\n",
              "          element.innerHTML = '';\n",
              "          dataTable['output_type'] = 'display_data';\n",
              "          await google.colab.output.renderOutput(dataTable, element);\n",
              "          const docLink = document.createElement('div');\n",
              "          docLink.innerHTML = docLinkHtml;\n",
              "          element.appendChild(docLink);\n",
              "        }\n",
              "      </script>\n",
              "    </div>\n",
              "  </div>\n",
              "  "
            ],
            "text/plain": [
              "   ItemID  Sentiment                                      SentimentText\n",
              "0       1          0                       is so sad for my APL frie...\n",
              "1       2          0                     I missed the New Moon trail...\n",
              "2       3          1                            omg its already 7:30 :O\n",
              "3       4          0            .. Omgaga. Im sooo  im gunna CRy. I'...\n",
              "4       5          0           i think mi bf is cheating on me!!!   ..."
            ]
          },
          "execution_count": 5,
          "metadata": {},
          "output_type": "execute_result"
        }
      ],
      "source": [
        "df.head()                                              #head command gives the first 5 lines of our dataset"
      ]
    },
    {
      "cell_type": "code",
      "execution_count": 6,
      "id": "6711e25c",
      "metadata": {
        "colab": {
          "base_uri": "https://localhost:8080/",
          "height": 206
        },
        "id": "6711e25c",
        "outputId": "1ea2779c-9f5c-4b6a-a3a6-20aeed40c537"
      },
      "outputs": [
        {
          "data": {
            "text/html": [
              "\n",
              "  <div id=\"df-7a90b362-edd9-4a34-bd82-117f90ef7e14\">\n",
              "    <div class=\"colab-df-container\">\n",
              "      <div>\n",
              "<style scoped>\n",
              "    .dataframe tbody tr th:only-of-type {\n",
              "        vertical-align: middle;\n",
              "    }\n",
              "\n",
              "    .dataframe tbody tr th {\n",
              "        vertical-align: top;\n",
              "    }\n",
              "\n",
              "    .dataframe thead th {\n",
              "        text-align: right;\n",
              "    }\n",
              "</style>\n",
              "<table border=\"1\" class=\"dataframe\">\n",
              "  <thead>\n",
              "    <tr style=\"text-align: right;\">\n",
              "      <th></th>\n",
              "      <th>ItemID</th>\n",
              "      <th>Sentiment</th>\n",
              "      <th>SentimentText</th>\n",
              "    </tr>\n",
              "  </thead>\n",
              "  <tbody>\n",
              "    <tr>\n",
              "      <th>99984</th>\n",
              "      <td>99996</td>\n",
              "      <td>0</td>\n",
              "      <td>@Cupcake  seems like a repeating problem   hop...</td>\n",
              "    </tr>\n",
              "    <tr>\n",
              "      <th>99985</th>\n",
              "      <td>99997</td>\n",
              "      <td>1</td>\n",
              "      <td>@cupcake__ arrrr we both replied to each other...</td>\n",
              "    </tr>\n",
              "    <tr>\n",
              "      <th>99986</th>\n",
              "      <td>99998</td>\n",
              "      <td>0</td>\n",
              "      <td>@CuPcAkE_2120 ya i thought so</td>\n",
              "    </tr>\n",
              "    <tr>\n",
              "      <th>99987</th>\n",
              "      <td>99999</td>\n",
              "      <td>1</td>\n",
              "      <td>@Cupcake_Dollie Yes. Yes. I'm glad you had mor...</td>\n",
              "    </tr>\n",
              "    <tr>\n",
              "      <th>99988</th>\n",
              "      <td>100000</td>\n",
              "      <td>1</td>\n",
              "      <td>@cupcake_kayla haha yes you do</td>\n",
              "    </tr>\n",
              "  </tbody>\n",
              "</table>\n",
              "</div>\n",
              "      <button class=\"colab-df-convert\" onclick=\"convertToInteractive('df-7a90b362-edd9-4a34-bd82-117f90ef7e14')\"\n",
              "              title=\"Convert this dataframe to an interactive table.\"\n",
              "              style=\"display:none;\">\n",
              "        \n",
              "  <svg xmlns=\"http://www.w3.org/2000/svg\" height=\"24px\"viewBox=\"0 0 24 24\"\n",
              "       width=\"24px\">\n",
              "    <path d=\"M0 0h24v24H0V0z\" fill=\"none\"/>\n",
              "    <path d=\"M18.56 5.44l.94 2.06.94-2.06 2.06-.94-2.06-.94-.94-2.06-.94 2.06-2.06.94zm-11 1L8.5 8.5l.94-2.06 2.06-.94-2.06-.94L8.5 2.5l-.94 2.06-2.06.94zm10 10l.94 2.06.94-2.06 2.06-.94-2.06-.94-.94-2.06-.94 2.06-2.06.94z\"/><path d=\"M17.41 7.96l-1.37-1.37c-.4-.4-.92-.59-1.43-.59-.52 0-1.04.2-1.43.59L10.3 9.45l-7.72 7.72c-.78.78-.78 2.05 0 2.83L4 21.41c.39.39.9.59 1.41.59.51 0 1.02-.2 1.41-.59l7.78-7.78 2.81-2.81c.8-.78.8-2.07 0-2.86zM5.41 20L4 18.59l7.72-7.72 1.47 1.35L5.41 20z\"/>\n",
              "  </svg>\n",
              "      </button>\n",
              "      \n",
              "  <style>\n",
              "    .colab-df-container {\n",
              "      display:flex;\n",
              "      flex-wrap:wrap;\n",
              "      gap: 12px;\n",
              "    }\n",
              "\n",
              "    .colab-df-convert {\n",
              "      background-color: #E8F0FE;\n",
              "      border: none;\n",
              "      border-radius: 50%;\n",
              "      cursor: pointer;\n",
              "      display: none;\n",
              "      fill: #1967D2;\n",
              "      height: 32px;\n",
              "      padding: 0 0 0 0;\n",
              "      width: 32px;\n",
              "    }\n",
              "\n",
              "    .colab-df-convert:hover {\n",
              "      background-color: #E2EBFA;\n",
              "      box-shadow: 0px 1px 2px rgba(60, 64, 67, 0.3), 0px 1px 3px 1px rgba(60, 64, 67, 0.15);\n",
              "      fill: #174EA6;\n",
              "    }\n",
              "\n",
              "    [theme=dark] .colab-df-convert {\n",
              "      background-color: #3B4455;\n",
              "      fill: #D2E3FC;\n",
              "    }\n",
              "\n",
              "    [theme=dark] .colab-df-convert:hover {\n",
              "      background-color: #434B5C;\n",
              "      box-shadow: 0px 1px 3px 1px rgba(0, 0, 0, 0.15);\n",
              "      filter: drop-shadow(0px 1px 2px rgba(0, 0, 0, 0.3));\n",
              "      fill: #FFFFFF;\n",
              "    }\n",
              "  </style>\n",
              "\n",
              "      <script>\n",
              "        const buttonEl =\n",
              "          document.querySelector('#df-7a90b362-edd9-4a34-bd82-117f90ef7e14 button.colab-df-convert');\n",
              "        buttonEl.style.display =\n",
              "          google.colab.kernel.accessAllowed ? 'block' : 'none';\n",
              "\n",
              "        async function convertToInteractive(key) {\n",
              "          const element = document.querySelector('#df-7a90b362-edd9-4a34-bd82-117f90ef7e14');\n",
              "          const dataTable =\n",
              "            await google.colab.kernel.invokeFunction('convertToInteractive',\n",
              "                                                     [key], {});\n",
              "          if (!dataTable) return;\n",
              "\n",
              "          const docLinkHtml = 'Like what you see? Visit the ' +\n",
              "            '<a target=\"_blank\" href=https://colab.research.google.com/notebooks/data_table.ipynb>data table notebook</a>'\n",
              "            + ' to learn more about interactive tables.';\n",
              "          element.innerHTML = '';\n",
              "          dataTable['output_type'] = 'display_data';\n",
              "          await google.colab.output.renderOutput(dataTable, element);\n",
              "          const docLink = document.createElement('div');\n",
              "          docLink.innerHTML = docLinkHtml;\n",
              "          element.appendChild(docLink);\n",
              "        }\n",
              "      </script>\n",
              "    </div>\n",
              "  </div>\n",
              "  "
            ],
            "text/plain": [
              "       ItemID  Sentiment                                      SentimentText\n",
              "99984   99996          0  @Cupcake  seems like a repeating problem   hop...\n",
              "99985   99997          1  @cupcake__ arrrr we both replied to each other...\n",
              "99986   99998          0                     @CuPcAkE_2120 ya i thought so \n",
              "99987   99999          1  @Cupcake_Dollie Yes. Yes. I'm glad you had mor...\n",
              "99988  100000          1                    @cupcake_kayla haha yes you do "
            ]
          },
          "execution_count": 6,
          "metadata": {},
          "output_type": "execute_result"
        }
      ],
      "source": [
        "df.tail()                                             #tail command gives the last 5 lines of our dataset"
      ]
    },
    {
      "cell_type": "code",
      "execution_count": 7,
      "id": "ec0429c3",
      "metadata": {
        "colab": {
          "base_uri": "https://localhost:8080/"
        },
        "id": "ec0429c3",
        "outputId": "e0027006-4d47-4915-931b-a29d00e0975e"
      },
      "outputs": [
        {
          "data": {
            "text/plain": [
              "(99989, 3)"
            ]
          },
          "execution_count": 7,
          "metadata": {},
          "output_type": "execute_result"
        }
      ],
      "source": [
        "df.shape                                           #rows and columns of dataset"
      ]
    },
    {
      "cell_type": "code",
      "execution_count": 8,
      "id": "db8963ff",
      "metadata": {
        "colab": {
          "base_uri": "https://localhost:8080/"
        },
        "id": "db8963ff",
        "outputId": "a7437b94-0ae8-44e0-f442-91573ff344cb"
      },
      "outputs": [
        {
          "data": {
            "text/plain": [
              "<bound method IndexOpsMixin.tolist of Index(['ItemID', 'Sentiment', 'SentimentText'], dtype='object')>"
            ]
          },
          "execution_count": 8,
          "metadata": {},
          "output_type": "execute_result"
        }
      ],
      "source": [
        "df.columns.tolist                                 #column names"
      ]
    },
    {
      "cell_type": "code",
      "execution_count": 9,
      "id": "b1ef573c",
      "metadata": {
        "colab": {
          "base_uri": "https://localhost:8080/"
        },
        "id": "b1ef573c",
        "outputId": "ae4fdd79-587e-48dd-c223-6e0e45bb6e4e"
      },
      "outputs": [
        {
          "data": {
            "text/plain": [
              "ItemID            int64\n",
              "Sentiment         int64\n",
              "SentimentText    object\n",
              "dtype: object"
            ]
          },
          "execution_count": 9,
          "metadata": {},
          "output_type": "execute_result"
        }
      ],
      "source": [
        "df.dtypes"
      ]
    },
    {
      "cell_type": "code",
      "execution_count": 10,
      "id": "695e8bd4",
      "metadata": {
        "id": "695e8bd4"
      },
      "outputs": [],
      "source": [
        "count=[]\n",
        "count.append(int(df.Sentiment.value_counts()[1]))\n",
        "count.append(int(df.Sentiment.value_counts()[0]))"
      ]
    },
    {
      "cell_type": "code",
      "execution_count": 11,
      "id": "fa5b4016",
      "metadata": {
        "colab": {
          "base_uri": "https://localhost:8080/"
        },
        "id": "fa5b4016",
        "outputId": "10d5d494-ddc7-4e30-eeba-7d683b8c7794"
      },
      "outputs": [
        {
          "name": "stdout",
          "output_type": "stream",
          "text": [
            "[56457, 43532]\n"
          ]
        }
      ],
      "source": [
        "print(count)"
      ]
    },
    {
      "cell_type": "code",
      "execution_count": 12,
      "id": "9115a527",
      "metadata": {
        "colab": {
          "base_uri": "https://localhost:8080/",
          "height": 366
        },
        "id": "9115a527",
        "outputId": "9b1c803a-8ead-4fdd-93d8-4ec0f35c1bac"
      },
      "outputs": [
        {
          "data": {
            "image/png": "[encoded data removed]",
            "text/plain": [
              "<Figure size 432x288 with 1 Axes>"
            ]
          },
          "metadata": {
            "needs_background": "light"
          },
          "output_type": "display_data"
        }
      ],
      "source": [
        "#PRE-DATA VISULAISATION - Graphical representation of data\n",
        "fig1=plt.figure()\n",
        "axes=fig1.add_axes([0,0,1,1])\n",
        "label=['HAPPY','UNHAPPY']\n",
        "axes.bar(label,count)\n",
        "plt.xlabel(\"SENTIMENT\")\n",
        "plt.ylabel(\"COUNT\")\n",
        "plt.title(\"PRE-DATA VISUALISATION OF DATA\")\n",
        "plt.show()"
      ]
    },
    {
      "cell_type": "code",
      "execution_count": 13,
      "id": "b8d17244",
      "metadata": {
        "id": "b8d17244"
      },
      "outputs": [],
      "source": [
        "#DATA PREPROCESSING\n",
        "#TOKENIZATION OF TEXT\n",
        "import re\n",
        "from nltk.corpus import stopwords\n",
        "from nltk.tokenize import sent_tokenize,word_tokenize"
      ]
    },
    {
      "cell_type": "code",
      "execution_count": 14,
      "id": "a61d54bf",
      "metadata": {
        "id": "a61d54bf"
      },
      "outputs": [],
      "source": [
        "preprocess1=[]\n",
        "for each_row in range(df.shape[0]):\n",
        "    text=df['SentimentText'].values[each_row]\n",
        "    ctext=str(text)\n",
        "    regex=re.sub('[^A-Za-z0-9!?]', ' ', ctext)\n",
        "    preprocess1.append(regex)\n",
        "df[\"Preprocessed_1\"]=preprocess1"
      ]
    },
    {
      "cell_type": "code",
      "execution_count": 15,
      "id": "92e13f0b",
      "metadata": {
        "colab": {
          "base_uri": "https://localhost:8080/",
          "height": 424
        },
        "id": "92e13f0b",
        "outputId": "747fb3d0-b714-4542-de7b-6f808cb9cbf5"
      },
      "outputs": [
        {
          "data": {
            "text/html": [
              "\n",
              "  <div id=\"df-19fbdcde-e727-40c9-8166-11a9c52be8ea\">\n",
              "    <div class=\"colab-df-container\">\n",
              "      <div>\n",
              "<style scoped>\n",
              "    .dataframe tbody tr th:only-of-type {\n",
              "        vertical-align: middle;\n",
              "    }\n",
              "\n",
              "    .dataframe tbody tr th {\n",
              "        vertical-align: top;\n",
              "    }\n",
              "\n",
              "    .dataframe thead th {\n",
              "        text-align: right;\n",
              "    }\n",
              "</style>\n",
              "<table border=\"1\" class=\"dataframe\">\n",
              "  <thead>\n",
              "    <tr style=\"text-align: right;\">\n",
              "      <th></th>\n",
              "      <th>Preprocessed_1</th>\n",
              "    </tr>\n",
              "  </thead>\n",
              "  <tbody>\n",
              "    <tr>\n",
              "      <th>0</th>\n",
              "      <td>is so sad for my APL frie...</td>\n",
              "    </tr>\n",
              "    <tr>\n",
              "      <th>1</th>\n",
              "      <td>I missed the New Moon trail...</td>\n",
              "    </tr>\n",
              "    <tr>\n",
              "      <th>2</th>\n",
              "      <td>omg its already 7 30  O</td>\n",
              "    </tr>\n",
              "    <tr>\n",
              "      <th>3</th>\n",
              "      <td>Omgaga  Im sooo  im gunna CRy  I ...</td>\n",
              "    </tr>\n",
              "    <tr>\n",
              "      <th>4</th>\n",
              "      <td>i think mi bf is cheating on me!!!   ...</td>\n",
              "    </tr>\n",
              "    <tr>\n",
              "      <th>...</th>\n",
              "      <td>...</td>\n",
              "    </tr>\n",
              "    <tr>\n",
              "      <th>99984</th>\n",
              "      <td>Cupcake  seems like a repeating problem   hop...</td>\n",
              "    </tr>\n",
              "    <tr>\n",
              "      <th>99985</th>\n",
              "      <td>cupcake   arrrr we both replied to each other...</td>\n",
              "    </tr>\n",
              "    <tr>\n",
              "      <th>99986</th>\n",
              "      <td>CuPcAkE 2120 ya i thought so</td>\n",
              "    </tr>\n",
              "    <tr>\n",
              "      <th>99987</th>\n",
              "      <td>Cupcake Dollie Yes  Yes  I m glad you had mor...</td>\n",
              "    </tr>\n",
              "    <tr>\n",
              "      <th>99988</th>\n",
              "      <td>cupcake kayla haha yes you do</td>\n",
              "    </tr>\n",
              "  </tbody>\n",
              "</table>\n",
              "<p>99989 rows × 1 columns</p>\n",
              "</div>\n",
              "      <button class=\"colab-df-convert\" onclick=\"convertToInteractive('df-19fbdcde-e727-40c9-8166-11a9c52be8ea')\"\n",
              "              title=\"Convert this dataframe to an interactive table.\"\n",
              "              style=\"display:none;\">\n",
              "        \n",
              "  <svg xmlns=\"http://www.w3.org/2000/svg\" height=\"24px\"viewBox=\"0 0 24 24\"\n",
              "       width=\"24px\">\n",
              "    <path d=\"M0 0h24v24H0V0z\" fill=\"none\"/>\n",
              "    <path d=\"M18.56 5.44l.94 2.06.94-2.06 2.06-.94-2.06-.94-.94-2.06-.94 2.06-2.06.94zm-11 1L8.5 8.5l.94-2.06 2.06-.94-2.06-.94L8.5 2.5l-.94 2.06-2.06.94zm10 10l.94 2.06.94-2.06 2.06-.94-2.06-.94-.94-2.06-.94 2.06-2.06.94z\"/><path d=\"M17.41 7.96l-1.37-1.37c-.4-.4-.92-.59-1.43-.59-.52 0-1.04.2-1.43.59L10.3 9.45l-7.72 7.72c-.78.78-.78 2.05 0 2.83L4 21.41c.39.39.9.59 1.41.59.51 0 1.02-.2 1.41-.59l7.78-7.78 2.81-2.81c.8-.78.8-2.07 0-2.86zM5.41 20L4 18.59l7.72-7.72 1.47 1.35L5.41 20z\"/>\n",
              "  </svg>\n",
              "      </button>\n",
              "      \n",
              "  <style>\n",
              "    .colab-df-container {\n",
              "      display:flex;\n",
              "      flex-wrap:wrap;\n",
              "      gap: 12px;\n",
              "    }\n",
              "\n",
              "    .colab-df-convert {\n",
              "      background-color: #E8F0FE;\n",
              "      border: none;\n",
              "      border-radius: 50%;\n",
              "      cursor: pointer;\n",
              "      display: none;\n",
              "      fill: #1967D2;\n",
              "      height: 32px;\n",
              "      padding: 0 0 0 0;\n",
              "      width: 32px;\n",
              "    }\n",
              "\n",
              "    .colab-df-convert:hover {\n",
              "      background-color: #E2EBFA;\n",
              "      box-shadow: 0px 1px 2px rgba(60, 64, 67, 0.3), 0px 1px 3px 1px rgba(60, 64, 67, 0.15);\n",
              "      fill: #174EA6;\n",
              "    }\n",
              "\n",
              "    [theme=dark] .colab-df-convert {\n",
              "      background-color: #3B4455;\n",
              "      fill: #D2E3FC;\n",
              "    }\n",
              "\n",
              "    [theme=dark] .colab-df-convert:hover {\n",
              "      background-color: #434B5C;\n",
              "      box-shadow: 0px 1px 3px 1px rgba(0, 0, 0, 0.15);\n",
              "      filter: drop-shadow(0px 1px 2px rgba(0, 0, 0, 0.3));\n",
              "      fill: #FFFFFF;\n",
              "    }\n",
              "  </style>\n",
              "\n",
              "      <script>\n",
              "        const buttonEl =\n",
              "          document.querySelector('#df-19fbdcde-e727-40c9-8166-11a9c52be8ea button.colab-df-convert');\n",
              "        buttonEl.style.display =\n",
              "          google.colab.kernel.accessAllowed ? 'block' : 'none';\n",
              "\n",
              "        async function convertToInteractive(key) {\n",
              "          const element = document.querySelector('#df-19fbdcde-e727-40c9-8166-11a9c52be8ea');\n",
              "          const dataTable =\n",
              "            await google.colab.kernel.invokeFunction('convertToInteractive',\n",
              "                                                     [key], {});\n",
              "          if (!dataTable) return;\n",
              "\n",
              "          const docLinkHtml = 'Like what you see? Visit the ' +\n",
              "            '<a target=\"_blank\" href=https://colab.research.google.com/notebooks/data_table.ipynb>data table notebook</a>'\n",
              "            + ' to learn more about interactive tables.';\n",
              "          element.innerHTML = '';\n",
              "          dataTable['output_type'] = 'display_data';\n",
              "          await google.colab.output.renderOutput(dataTable, element);\n",
              "          const docLink = document.createElement('div');\n",
              "          docLink.innerHTML = docLinkHtml;\n",
              "          element.appendChild(docLink);\n",
              "        }\n",
              "      </script>\n",
              "    </div>\n",
              "  </div>\n",
              "  "
            ],
            "text/plain": [
              "                                          Preprocessed_1\n",
              "0                           is so sad for my APL frie...\n",
              "1                         I missed the New Moon trail...\n",
              "2                                omg its already 7 30  O\n",
              "3                   Omgaga  Im sooo  im gunna CRy  I ...\n",
              "4               i think mi bf is cheating on me!!!   ...\n",
              "...                                                  ...\n",
              "99984   Cupcake  seems like a repeating problem   hop...\n",
              "99985   cupcake   arrrr we both replied to each other...\n",
              "99986                      CuPcAkE 2120 ya i thought so \n",
              "99987   Cupcake Dollie Yes  Yes  I m glad you had mor...\n",
              "99988                     cupcake kayla haha yes you do \n",
              "\n",
              "[99989 rows x 1 columns]"
            ]
          },
          "execution_count": 15,
          "metadata": {},
          "output_type": "execute_result"
        }
      ],
      "source": [
        "df[['Preprocessed_1']]"
      ]
    },
    {
      "cell_type": "code",
      "execution_count": 16,
      "id": "ffae0f5c",
      "metadata": {
        "id": "ffae0f5c"
      },
      "outputs": [],
      "source": [
        "preprocess2=[]\n",
        "for each_row in range(df.shape[0]):\n",
        "    text=df['Preprocessed_1'].values[each_row]\n",
        "    ctext_p1=str(text)\n",
        "    regex_p1=re.sub('[^A-Za-z]', ' ', ctext_p1)\n",
        "    preprocess2.append(regex_p1)\n",
        "df[\"Preprocessed_2\"]=preprocess2"
      ]
    },
    {
      "cell_type": "code",
      "execution_count": 17,
      "id": "50cce4b2",
      "metadata": {
        "colab": {
          "base_uri": "https://localhost:8080/",
          "height": 424
        },
        "id": "50cce4b2",
        "outputId": "007ed143-331a-4878-b710-37b619e88de3"
      },
      "outputs": [
        {
          "data": {
            "text/html": [
              "\n",
              "  <div id=\"df-3894017c-c206-491a-bb47-6bb576debceb\">\n",
              "    <div class=\"colab-df-container\">\n",
              "      <div>\n",
              "<style scoped>\n",
              "    .dataframe tbody tr th:only-of-type {\n",
              "        vertical-align: middle;\n",
              "    }\n",
              "\n",
              "    .dataframe tbody tr th {\n",
              "        vertical-align: top;\n",
              "    }\n",
              "\n",
              "    .dataframe thead th {\n",
              "        text-align: right;\n",
              "    }\n",
              "</style>\n",
              "<table border=\"1\" class=\"dataframe\">\n",
              "  <thead>\n",
              "    <tr style=\"text-align: right;\">\n",
              "      <th></th>\n",
              "      <th>Preprocessed_2</th>\n",
              "    </tr>\n",
              "  </thead>\n",
              "  <tbody>\n",
              "    <tr>\n",
              "      <th>0</th>\n",
              "      <td>is so sad for my APL frie...</td>\n",
              "    </tr>\n",
              "    <tr>\n",
              "      <th>1</th>\n",
              "      <td>I missed the New Moon trail...</td>\n",
              "    </tr>\n",
              "    <tr>\n",
              "      <th>2</th>\n",
              "      <td>omg its already       O</td>\n",
              "    </tr>\n",
              "    <tr>\n",
              "      <th>3</th>\n",
              "      <td>Omgaga  Im sooo  im gunna CRy  I ...</td>\n",
              "    </tr>\n",
              "    <tr>\n",
              "      <th>4</th>\n",
              "      <td>i think mi bf is cheating on me      ...</td>\n",
              "    </tr>\n",
              "    <tr>\n",
              "      <th>...</th>\n",
              "      <td>...</td>\n",
              "    </tr>\n",
              "    <tr>\n",
              "      <th>99984</th>\n",
              "      <td>Cupcake  seems like a repeating problem   hop...</td>\n",
              "    </tr>\n",
              "    <tr>\n",
              "      <th>99985</th>\n",
              "      <td>cupcake   arrrr we both replied to each other...</td>\n",
              "    </tr>\n",
              "    <tr>\n",
              "      <th>99986</th>\n",
              "      <td>CuPcAkE      ya i thought so</td>\n",
              "    </tr>\n",
              "    <tr>\n",
              "      <th>99987</th>\n",
              "      <td>Cupcake Dollie Yes  Yes  I m glad you had mor...</td>\n",
              "    </tr>\n",
              "    <tr>\n",
              "      <th>99988</th>\n",
              "      <td>cupcake kayla haha yes you do</td>\n",
              "    </tr>\n",
              "  </tbody>\n",
              "</table>\n",
              "<p>99989 rows × 1 columns</p>\n",
              "</div>\n",
              "      <button class=\"colab-df-convert\" onclick=\"convertToInteractive('df-3894017c-c206-491a-bb47-6bb576debceb')\"\n",
              "              title=\"Convert this dataframe to an interactive table.\"\n",
              "              style=\"display:none;\">\n",
              "        \n",
              "  <svg xmlns=\"http://www.w3.org/2000/svg\" height=\"24px\"viewBox=\"0 0 24 24\"\n",
              "       width=\"24px\">\n",
              "    <path d=\"M0 0h24v24H0V0z\" fill=\"none\"/>\n",
              "    <path d=\"M18.56 5.44l.94 2.06.94-2.06 2.06-.94-2.06-.94-.94-2.06-.94 2.06-2.06.94zm-11 1L8.5 8.5l.94-2.06 2.06-.94-2.06-.94L8.5 2.5l-.94 2.06-2.06.94zm10 10l.94 2.06.94-2.06 2.06-.94-2.06-.94-.94-2.06-.94 2.06-2.06.94z\"/><path d=\"M17.41 7.96l-1.37-1.37c-.4-.4-.92-.59-1.43-.59-.52 0-1.04.2-1.43.59L10.3 9.45l-7.72 7.72c-.78.78-.78 2.05 0 2.83L4 21.41c.39.39.9.59 1.41.59.51 0 1.02-.2 1.41-.59l7.78-7.78 2.81-2.81c.8-.78.8-2.07 0-2.86zM5.41 20L4 18.59l7.72-7.72 1.47 1.35L5.41 20z\"/>\n",
              "  </svg>\n",
              "      </button>\n",
              "      \n",
              "  <style>\n",
              "    .colab-df-container {\n",
              "      display:flex;\n",
              "      flex-wrap:wrap;\n",
              "      gap: 12px;\n",
              "    }\n",
              "\n",
              "    .colab-df-convert {\n",
              "      background-color: #E8F0FE;\n",
              "      border: none;\n",
              "      border-radius: 50%;\n",
              "      cursor: pointer;\n",
              "      display: none;\n",
              "      fill: #1967D2;\n",
              "      height: 32px;\n",
              "      padding: 0 0 0 0;\n",
              "      width: 32px;\n",
              "    }\n",
              "\n",
              "    .colab-df-convert:hover {\n",
              "      background-color: #E2EBFA;\n",
              "      box-shadow: 0px 1px 2px rgba(60, 64, 67, 0.3), 0px 1px 3px 1px rgba(60, 64, 67, 0.15);\n",
              "      fill: #174EA6;\n",
              "    }\n",
              "\n",
              "    [theme=dark] .colab-df-convert {\n",
              "      background-color: #3B4455;\n",
              "      fill: #D2E3FC;\n",
              "    }\n",
              "\n",
              "    [theme=dark] .colab-df-convert:hover {\n",
              "      background-color: #434B5C;\n",
              "      box-shadow: 0px 1px 3px 1px rgba(0, 0, 0, 0.15);\n",
              "      filter: drop-shadow(0px 1px 2px rgba(0, 0, 0, 0.3));\n",
              "      fill: #FFFFFF;\n",
              "    }\n",
              "  </style>\n",
              "\n",
              "      <script>\n",
              "        const buttonEl =\n",
              "          document.querySelector('#df-3894017c-c206-491a-bb47-6bb576debceb button.colab-df-convert');\n",
              "        buttonEl.style.display =\n",
              "          google.colab.kernel.accessAllowed ? 'block' : 'none';\n",
              "\n",
              "        async function convertToInteractive(key) {\n",
              "          const element = document.querySelector('#df-3894017c-c206-491a-bb47-6bb576debceb');\n",
              "          const dataTable =\n",
              "            await google.colab.kernel.invokeFunction('convertToInteractive',\n",
              "                                                     [key], {});\n",
              "          if (!dataTable) return;\n",
              "\n",
              "          const docLinkHtml = 'Like what you see? Visit the ' +\n",
              "            '<a target=\"_blank\" href=https://colab.research.google.com/notebooks/data_table.ipynb>data table notebook</a>'\n",
              "            + ' to learn more about interactive tables.';\n",
              "          element.innerHTML = '';\n",
              "          dataTable['output_type'] = 'display_data';\n",
              "          await google.colab.output.renderOutput(dataTable, element);\n",
              "          const docLink = document.createElement('div');\n",
              "          docLink.innerHTML = docLinkHtml;\n",
              "          element.appendChild(docLink);\n",
              "        }\n",
              "      </script>\n",
              "    </div>\n",
              "  </div>\n",
              "  "
            ],
            "text/plain": [
              "                                          Preprocessed_2\n",
              "0                           is so sad for my APL frie...\n",
              "1                         I missed the New Moon trail...\n",
              "2                                omg its already       O\n",
              "3                   Omgaga  Im sooo  im gunna CRy  I ...\n",
              "4               i think mi bf is cheating on me      ...\n",
              "...                                                  ...\n",
              "99984   Cupcake  seems like a repeating problem   hop...\n",
              "99985   cupcake   arrrr we both replied to each other...\n",
              "99986                      CuPcAkE      ya i thought so \n",
              "99987   Cupcake Dollie Yes  Yes  I m glad you had mor...\n",
              "99988                     cupcake kayla haha yes you do \n",
              "\n",
              "[99989 rows x 1 columns]"
            ]
          },
          "execution_count": 17,
          "metadata": {},
          "output_type": "execute_result"
        }
      ],
      "source": [
        "df[['Preprocessed_2']]"
      ]
    },
    {
      "cell_type": "code",
      "execution_count": 18,
      "id": "342b9002",
      "metadata": {
        "id": "342b9002"
      },
      "outputs": [],
      "source": [
        "#no need\n",
        "preprocess3=[]\n",
        "for each_row in range(df.shape[0]):\n",
        "    text=df['Preprocessed_2'].values[each_row]\n",
        "    ctext_p2=str(text)\n",
        "    regex_p2=ctext_p2.lower()\n",
        "    preprocess3.append(regex_p2)\n",
        "df[\"Preprocessed_3\"]=preprocess3"
      ]
    },
    {
      "cell_type": "code",
      "execution_count": 19,
      "id": "82135afa",
      "metadata": {
        "colab": {
          "base_uri": "https://localhost:8080/",
          "height": 424
        },
        "id": "82135afa",
        "outputId": "961da779-a752-4ab1-91e8-ab8d3ac9a546"
      },
      "outputs": [
        {
          "data": {
            "text/html": [
              "\n",
              "  <div id=\"df-673531df-dec8-4b81-a862-eb42af88781e\">\n",
              "    <div class=\"colab-df-container\">\n",
              "      <div>\n",
              "<style scoped>\n",
              "    .dataframe tbody tr th:only-of-type {\n",
              "        vertical-align: middle;\n",
              "    }\n",
              "\n",
              "    .dataframe tbody tr th {\n",
              "        vertical-align: top;\n",
              "    }\n",
              "\n",
              "    .dataframe thead th {\n",
              "        text-align: right;\n",
              "    }\n",
              "</style>\n",
              "<table border=\"1\" class=\"dataframe\">\n",
              "  <thead>\n",
              "    <tr style=\"text-align: right;\">\n",
              "      <th></th>\n",
              "      <th>Preprocessed_3</th>\n",
              "    </tr>\n",
              "  </thead>\n",
              "  <tbody>\n",
              "    <tr>\n",
              "      <th>0</th>\n",
              "      <td>is so sad for my apl frie...</td>\n",
              "    </tr>\n",
              "    <tr>\n",
              "      <th>1</th>\n",
              "      <td>i missed the new moon trail...</td>\n",
              "    </tr>\n",
              "    <tr>\n",
              "      <th>2</th>\n",
              "      <td>omg its already       o</td>\n",
              "    </tr>\n",
              "    <tr>\n",
              "      <th>3</th>\n",
              "      <td>omgaga  im sooo  im gunna cry  i ...</td>\n",
              "    </tr>\n",
              "    <tr>\n",
              "      <th>4</th>\n",
              "      <td>i think mi bf is cheating on me      ...</td>\n",
              "    </tr>\n",
              "    <tr>\n",
              "      <th>...</th>\n",
              "      <td>...</td>\n",
              "    </tr>\n",
              "    <tr>\n",
              "      <th>99984</th>\n",
              "      <td>cupcake  seems like a repeating problem   hop...</td>\n",
              "    </tr>\n",
              "    <tr>\n",
              "      <th>99985</th>\n",
              "      <td>cupcake   arrrr we both replied to each other...</td>\n",
              "    </tr>\n",
              "    <tr>\n",
              "      <th>99986</th>\n",
              "      <td>cupcake      ya i thought so</td>\n",
              "    </tr>\n",
              "    <tr>\n",
              "      <th>99987</th>\n",
              "      <td>cupcake dollie yes  yes  i m glad you had mor...</td>\n",
              "    </tr>\n",
              "    <tr>\n",
              "      <th>99988</th>\n",
              "      <td>cupcake kayla haha yes you do</td>\n",
              "    </tr>\n",
              "  </tbody>\n",
              "</table>\n",
              "<p>99989 rows × 1 columns</p>\n",
              "</div>\n",
              "      <button class=\"colab-df-convert\" onclick=\"convertToInteractive('df-673531df-dec8-4b81-a862-eb42af88781e')\"\n",
              "              title=\"Convert this dataframe to an interactive table.\"\n",
              "              style=\"display:none;\">\n",
              "        \n",
              "  <svg xmlns=\"http://www.w3.org/2000/svg\" height=\"24px\"viewBox=\"0 0 24 24\"\n",
              "       width=\"24px\">\n",
              "    <path d=\"M0 0h24v24H0V0z\" fill=\"none\"/>\n",
              "    <path d=\"M18.56 5.44l.94 2.06.94-2.06 2.06-.94-2.06-.94-.94-2.06-.94 2.06-2.06.94zm-11 1L8.5 8.5l.94-2.06 2.06-.94-2.06-.94L8.5 2.5l-.94 2.06-2.06.94zm10 10l.94 2.06.94-2.06 2.06-.94-2.06-.94-.94-2.06-.94 2.06-2.06.94z\"/><path d=\"M17.41 7.96l-1.37-1.37c-.4-.4-.92-.59-1.43-.59-.52 0-1.04.2-1.43.59L10.3 9.45l-7.72 7.72c-.78.78-.78 2.05 0 2.83L4 21.41c.39.39.9.59 1.41.59.51 0 1.02-.2 1.41-.59l7.78-7.78 2.81-2.81c.8-.78.8-2.07 0-2.86zM5.41 20L4 18.59l7.72-7.72 1.47 1.35L5.41 20z\"/>\n",
              "  </svg>\n",
              "      </button>\n",
              "      \n",
              "  <style>\n",
              "    .colab-df-container {\n",
              "      display:flex;\n",
              "      flex-wrap:wrap;\n",
              "      gap: 12px;\n",
              "    }\n",
              "\n",
              "    .colab-df-convert {\n",
              "      background-color: #E8F0FE;\n",
              "      border: none;\n",
              "      border-radius: 50%;\n",
              "      cursor: pointer;\n",
              "      display: none;\n",
              "      fill: #1967D2;\n",
              "      height: 32px;\n",
              "      padding: 0 0 0 0;\n",
              "      width: 32px;\n",
              "    }\n",
              "\n",
              "    .colab-df-convert:hover {\n",
              "      background-color: #E2EBFA;\n",
              "      box-shadow: 0px 1px 2px rgba(60, 64, 67, 0.3), 0px 1px 3px 1px rgba(60, 64, 67, 0.15);\n",
              "      fill: #174EA6;\n",
              "    }\n",
              "\n",
              "    [theme=dark] .colab-df-convert {\n",
              "      background-color: #3B4455;\n",
              "      fill: #D2E3FC;\n",
              "    }\n",
              "\n",
              "    [theme=dark] .colab-df-convert:hover {\n",
              "      background-color: #434B5C;\n",
              "      box-shadow: 0px 1px 3px 1px rgba(0, 0, 0, 0.15);\n",
              "      filter: drop-shadow(0px 1px 2px rgba(0, 0, 0, 0.3));\n",
              "      fill: #FFFFFF;\n",
              "    }\n",
              "  </style>\n",
              "\n",
              "      <script>\n",
              "        const buttonEl =\n",
              "          document.querySelector('#df-673531df-dec8-4b81-a862-eb42af88781e button.colab-df-convert');\n",
              "        buttonEl.style.display =\n",
              "          google.colab.kernel.accessAllowed ? 'block' : 'none';\n",
              "\n",
              "        async function convertToInteractive(key) {\n",
              "          const element = document.querySelector('#df-673531df-dec8-4b81-a862-eb42af88781e');\n",
              "          const dataTable =\n",
              "            await google.colab.kernel.invokeFunction('convertToInteractive',\n",
              "                                                     [key], {});\n",
              "          if (!dataTable) return;\n",
              "\n",
              "          const docLinkHtml = 'Like what you see? Visit the ' +\n",
              "            '<a target=\"_blank\" href=https://colab.research.google.com/notebooks/data_table.ipynb>data table notebook</a>'\n",
              "            + ' to learn more about interactive tables.';\n",
              "          element.innerHTML = '';\n",
              "          dataTable['output_type'] = 'display_data';\n",
              "          await google.colab.output.renderOutput(dataTable, element);\n",
              "          const docLink = document.createElement('div');\n",
              "          docLink.innerHTML = docLinkHtml;\n",
              "          element.appendChild(docLink);\n",
              "        }\n",
              "      </script>\n",
              "    </div>\n",
              "  </div>\n",
              "  "
            ],
            "text/plain": [
              "                                          Preprocessed_3\n",
              "0                           is so sad for my apl frie...\n",
              "1                         i missed the new moon trail...\n",
              "2                                omg its already       o\n",
              "3                   omgaga  im sooo  im gunna cry  i ...\n",
              "4               i think mi bf is cheating on me      ...\n",
              "...                                                  ...\n",
              "99984   cupcake  seems like a repeating problem   hop...\n",
              "99985   cupcake   arrrr we both replied to each other...\n",
              "99986                      cupcake      ya i thought so \n",
              "99987   cupcake dollie yes  yes  i m glad you had mor...\n",
              "99988                     cupcake kayla haha yes you do \n",
              "\n",
              "[99989 rows x 1 columns]"
            ]
          },
          "execution_count": 19,
          "metadata": {},
          "output_type": "execute_result"
        }
      ],
      "source": [
        "df[['Preprocessed_3']]"
      ]
    },
    {
      "cell_type": "code",
      "execution_count": 20,
      "id": "4e07b4e1",
      "metadata": {
        "colab": {
          "base_uri": "https://localhost:8080/"
        },
        "id": "4e07b4e1",
        "outputId": "b66516c7-a22d-46c5-ade3-007ec3f82b32"
      },
      "outputs": [
        {
          "name": "stderr",
          "output_type": "stream",
          "text": [
            "[nltk_data] Downloading package stopwords to /root/nltk_data...\n",
            "[nltk_data]   Unzipping corpora/stopwords.zip.\n"
          ]
        },
        {
          "data": {
            "text/plain": [
              "True"
            ]
          },
          "execution_count": 20,
          "metadata": {},
          "output_type": "execute_result"
        }
      ],
      "source": [
        "import nltk\n",
        "nltk.download('stopwords')"
      ]
    },
    {
      "cell_type": "code",
      "execution_count": 21,
      "id": "cd45f469",
      "metadata": {
        "id": "cd45f469"
      },
      "outputs": [],
      "source": [
        "from nltk.corpus import stopwords\n",
        "from nltk.tokenize import word_tokenize,sent_tokenize\n",
        "stopwords_list=stopwords.words('english')"
      ]
    },
    {
      "cell_type": "code",
      "execution_count": 22,
      "id": "56e77142",
      "metadata": {
        "colab": {
          "base_uri": "https://localhost:8080/"
        },
        "id": "56e77142",
        "outputId": "25cf6f78-5e89-4088-de2f-554b64010549"
      },
      "outputs": [
        {
          "name": "stderr",
          "output_type": "stream",
          "text": [
            "[nltk_data] Downloading package punkt to /root/nltk_data...\n",
            "[nltk_data]   Unzipping tokenizers/punkt.zip.\n"
          ]
        },
        {
          "data": {
            "text/plain": [
              "True"
            ]
          },
          "execution_count": 22,
          "metadata": {},
          "output_type": "execute_result"
        }
      ],
      "source": [
        "import nltk\n",
        "nltk.download('punkt')"
      ]
    },
    {
      "cell_type": "code",
      "execution_count": 23,
      "id": "53867e70",
      "metadata": {
        "id": "53867e70"
      },
      "outputs": [],
      "source": [
        "preprocess4=[]\n",
        "for each_row in range(df.shape[0]):\n",
        "    text=df['SentimentText'].values[each_row]\n",
        "    tokenized_words=word_tokenize(text)\n",
        "    clean_words=[]\n",
        "    for each_word in tokenized_words:\n",
        "        if not each_word in stopwords_list:\n",
        "            clean_words.append(each_word)\n",
        "    dre=''\n",
        "    for each_data in clean_words:\n",
        "        dre=dre+str(each_data)+' '\n",
        "    preprocess4.append(dre)\n",
        "df['Preprocessed_4']=preprocess4"
      ]
    },
    {
      "cell_type": "code",
      "execution_count": 24,
      "id": "b5dfce3c",
      "metadata": {
        "colab": {
          "base_uri": "https://localhost:8080/",
          "height": 424
        },
        "id": "b5dfce3c",
        "outputId": "88069091-3240-4bef-bdd8-ed66e195ba71"
      },
      "outputs": [
        {
          "data": {
            "text/html": [
              "\n",
              "  <div id=\"df-83ef0136-c5bb-4c0b-89c1-66db3464db3f\">\n",
              "    <div class=\"colab-df-container\">\n",
              "      <div>\n",
              "<style scoped>\n",
              "    .dataframe tbody tr th:only-of-type {\n",
              "        vertical-align: middle;\n",
              "    }\n",
              "\n",
              "    .dataframe tbody tr th {\n",
              "        vertical-align: top;\n",
              "    }\n",
              "\n",
              "    .dataframe thead th {\n",
              "        text-align: right;\n",
              "    }\n",
              "</style>\n",
              "<table border=\"1\" class=\"dataframe\">\n",
              "  <thead>\n",
              "    <tr style=\"text-align: right;\">\n",
              "      <th></th>\n",
              "      <th>Preprocessed_4</th>\n",
              "    </tr>\n",
              "  </thead>\n",
              "  <tbody>\n",
              "    <tr>\n",
              "      <th>0</th>\n",
              "      <td>sad APL friend .............</td>\n",
              "    </tr>\n",
              "    <tr>\n",
              "      <th>1</th>\n",
              "      <td>I missed New Moon trailer ...</td>\n",
              "    </tr>\n",
              "    <tr>\n",
              "      <th>2</th>\n",
              "      <td>omg already 7:30 : O</td>\n",
              "    </tr>\n",
              "    <tr>\n",
              "      <th>3</th>\n",
              "      <td>.. Omgaga . Im sooo im gunna CRy . I 've denti...</td>\n",
              "    </tr>\n",
              "    <tr>\n",
              "      <th>4</th>\n",
              "      <td>think mi bf cheating ! ! ! T_T</td>\n",
              "    </tr>\n",
              "    <tr>\n",
              "      <th>...</th>\n",
              "      <td>...</td>\n",
              "    </tr>\n",
              "    <tr>\n",
              "      <th>99984</th>\n",
              "      <td>@ Cupcake seems like repeating problem hope 'r...</td>\n",
              "    </tr>\n",
              "    <tr>\n",
              "      <th>99985</th>\n",
              "      <td>@ cupcake__ arrrr replied different tweets tim...</td>\n",
              "    </tr>\n",
              "    <tr>\n",
              "      <th>99986</th>\n",
              "      <td>@ CuPcAkE_2120 ya thought</td>\n",
              "    </tr>\n",
              "    <tr>\n",
              "      <th>99987</th>\n",
              "      <td>@ Cupcake_Dollie Yes . Yes . I 'm glad fun .</td>\n",
              "    </tr>\n",
              "    <tr>\n",
              "      <th>99988</th>\n",
              "      <td>@ cupcake_kayla haha yes</td>\n",
              "    </tr>\n",
              "  </tbody>\n",
              "</table>\n",
              "<p>99989 rows × 1 columns</p>\n",
              "</div>\n",
              "      <button class=\"colab-df-convert\" onclick=\"convertToInteractive('df-83ef0136-c5bb-4c0b-89c1-66db3464db3f')\"\n",
              "              title=\"Convert this dataframe to an interactive table.\"\n",
              "              style=\"display:none;\">\n",
              "        \n",
              "  <svg xmlns=\"http://www.w3.org/2000/svg\" height=\"24px\"viewBox=\"0 0 24 24\"\n",
              "       width=\"24px\">\n",
              "    <path d=\"M0 0h24v24H0V0z\" fill=\"none\"/>\n",
              "    <path d=\"M18.56 5.44l.94 2.06.94-2.06 2.06-.94-2.06-.94-.94-2.06-.94 2.06-2.06.94zm-11 1L8.5 8.5l.94-2.06 2.06-.94-2.06-.94L8.5 2.5l-.94 2.06-2.06.94zm10 10l.94 2.06.94-2.06 2.06-.94-2.06-.94-.94-2.06-.94 2.06-2.06.94z\"/><path d=\"M17.41 7.96l-1.37-1.37c-.4-.4-.92-.59-1.43-.59-.52 0-1.04.2-1.43.59L10.3 9.45l-7.72 7.72c-.78.78-.78 2.05 0 2.83L4 21.41c.39.39.9.59 1.41.59.51 0 1.02-.2 1.41-.59l7.78-7.78 2.81-2.81c.8-.78.8-2.07 0-2.86zM5.41 20L4 18.59l7.72-7.72 1.47 1.35L5.41 20z\"/>\n",
              "  </svg>\n",
              "      </button>\n",
              "      \n",
              "  <style>\n",
              "    .colab-df-container {\n",
              "      display:flex;\n",
              "      flex-wrap:wrap;\n",
              "      gap: 12px;\n",
              "    }\n",
              "\n",
              "    .colab-df-convert {\n",
              "      background-color: #E8F0FE;\n",
              "      border: none;\n",
              "      border-radius: 50%;\n",
              "      cursor: pointer;\n",
              "      display: none;\n",
              "      fill: #1967D2;\n",
              "      height: 32px;\n",
              "      padding: 0 0 0 0;\n",
              "      width: 32px;\n",
              "    }\n",
              "\n",
              "    .colab-df-convert:hover {\n",
              "      background-color: #E2EBFA;\n",
              "      box-shadow: 0px 1px 2px rgba(60, 64, 67, 0.3), 0px 1px 3px 1px rgba(60, 64, 67, 0.15);\n",
              "      fill: #174EA6;\n",
              "    }\n",
              "\n",
              "    [theme=dark] .colab-df-convert {\n",
              "      background-color: #3B4455;\n",
              "      fill: #D2E3FC;\n",
              "    }\n",
              "\n",
              "    [theme=dark] .colab-df-convert:hover {\n",
              "      background-color: #434B5C;\n",
              "      box-shadow: 0px 1px 3px 1px rgba(0, 0, 0, 0.15);\n",
              "      filter: drop-shadow(0px 1px 2px rgba(0, 0, 0, 0.3));\n",
              "      fill: #FFFFFF;\n",
              "    }\n",
              "  </style>\n",
              "\n",
              "      <script>\n",
              "        const buttonEl =\n",
              "          document.querySelector('#df-83ef0136-c5bb-4c0b-89c1-66db3464db3f button.colab-df-convert');\n",
              "        buttonEl.style.display =\n",
              "          google.colab.kernel.accessAllowed ? 'block' : 'none';\n",
              "\n",
              "        async function convertToInteractive(key) {\n",
              "          const element = document.querySelector('#df-83ef0136-c5bb-4c0b-89c1-66db3464db3f');\n",
              "          const dataTable =\n",
              "            await google.colab.kernel.invokeFunction('convertToInteractive',\n",
              "                                                     [key], {});\n",
              "          if (!dataTable) return;\n",
              "\n",
              "          const docLinkHtml = 'Like what you see? Visit the ' +\n",
              "            '<a target=\"_blank\" href=https://colab.research.google.com/notebooks/data_table.ipynb>data table notebook</a>'\n",
              "            + ' to learn more about interactive tables.';\n",
              "          element.innerHTML = '';\n",
              "          dataTable['output_type'] = 'display_data';\n",
              "          await google.colab.output.renderOutput(dataTable, element);\n",
              "          const docLink = document.createElement('div');\n",
              "          docLink.innerHTML = docLinkHtml;\n",
              "          element.appendChild(docLink);\n",
              "        }\n",
              "      </script>\n",
              "    </div>\n",
              "  </div>\n",
              "  "
            ],
            "text/plain": [
              "                                          Preprocessed_4\n",
              "0                          sad APL friend ............. \n",
              "1                         I missed New Moon trailer ... \n",
              "2                                  omg already 7:30 : O \n",
              "3      .. Omgaga . Im sooo im gunna CRy . I 've denti...\n",
              "4                        think mi bf cheating ! ! ! T_T \n",
              "...                                                  ...\n",
              "99984  @ Cupcake seems like repeating problem hope 'r...\n",
              "99985  @ cupcake__ arrrr replied different tweets tim...\n",
              "99986                         @ CuPcAkE_2120 ya thought \n",
              "99987      @ Cupcake_Dollie Yes . Yes . I 'm glad fun . \n",
              "99988                          @ cupcake_kayla haha yes \n",
              "\n",
              "[99989 rows x 1 columns]"
            ]
          },
          "execution_count": 24,
          "metadata": {},
          "output_type": "execute_result"
        }
      ],
      "source": [
        "df[['Preprocessed_4']]"
      ]
    },
    {
      "cell_type": "code",
      "execution_count": 25,
      "id": "a4b77054",
      "metadata": {
        "id": "a4b77054"
      },
      "outputs": [],
      "source": [
        "from nltk.stem import WordNetLemmatizer\n",
        "lm=WordNetLemmatizer()"
      ]
    },
    {
      "cell_type": "code",
      "execution_count": 26,
      "id": "82f407e1",
      "metadata": {
        "colab": {
          "base_uri": "https://localhost:8080/"
        },
        "id": "82f407e1",
        "outputId": "117f07ea-4852-480d-ee16-296546d99e27"
      },
      "outputs": [
        {
          "name": "stderr",
          "output_type": "stream",
          "text": [
            "[nltk_data] Downloading package wordnet to /root/nltk_data...\n",
            "[nltk_data]   Unzipping corpora/wordnet.zip.\n",
            "[nltk_data] Downloading package omw-1.4 to /root/nltk_data...\n",
            "[nltk_data]   Unzipping corpora/omw-1.4.zip.\n"
          ]
        },
        {
          "data": {
            "text/plain": [
              "True"
            ]
          },
          "execution_count": 26,
          "metadata": {},
          "output_type": "execute_result"
        }
      ],
      "source": [
        "import nltk\n",
        "nltk.download('wordnet')\n",
        "import nltk\n",
        "nltk.download('omw-1.4')"
      ]
    },
    {
      "cell_type": "code",
      "execution_count": 27,
      "id": "ced7cd0e",
      "metadata": {
        "id": "ced7cd0e"
      },
      "outputs": [],
      "source": [
        "preprocess_5=[]\n",
        "for each_row in range(df.shape[0]):\n",
        "    text=df['Preprocessed_4'].values[each_row]\n",
        "    tokenized_words=word_tokenize(text)\n",
        "    clean_words=[]\n",
        "    for each_word in tokenized_words:\n",
        "        clean_words.append(lm.lemmatize(each_word))\n",
        "    dre=''\n",
        "    for each_data in clean_words:\n",
        "        dre=dre+str(each_data)+' '\n",
        "    preprocess_5.append(dre)\n",
        "df['Preprocessed_5']=preprocess_5"
      ]
    },
    {
      "cell_type": "code",
      "execution_count": 28,
      "id": "59a30b96",
      "metadata": {
        "colab": {
          "base_uri": "https://localhost:8080/",
          "height": 424
        },
        "id": "59a30b96",
        "outputId": "39df3994-a458-4c9e-b95a-fcdf1dd81fa9"
      },
      "outputs": [
        {
          "data": {
            "text/html": [
              "\n",
              "  <div id=\"df-75b005a5-075d-49da-b6a2-bcf3cf8451c2\">\n",
              "    <div class=\"colab-df-container\">\n",
              "      <div>\n",
              "<style scoped>\n",
              "    .dataframe tbody tr th:only-of-type {\n",
              "        vertical-align: middle;\n",
              "    }\n",
              "\n",
              "    .dataframe tbody tr th {\n",
              "        vertical-align: top;\n",
              "    }\n",
              "\n",
              "    .dataframe thead th {\n",
              "        text-align: right;\n",
              "    }\n",
              "</style>\n",
              "<table border=\"1\" class=\"dataframe\">\n",
              "  <thead>\n",
              "    <tr style=\"text-align: right;\">\n",
              "      <th></th>\n",
              "      <th>Preprocessed_5</th>\n",
              "    </tr>\n",
              "  </thead>\n",
              "  <tbody>\n",
              "    <tr>\n",
              "      <th>0</th>\n",
              "      <td>sad APL friend .............</td>\n",
              "    </tr>\n",
              "    <tr>\n",
              "      <th>1</th>\n",
              "      <td>I missed New Moon trailer ...</td>\n",
              "    </tr>\n",
              "    <tr>\n",
              "      <th>2</th>\n",
              "      <td>omg already 7:30 : O</td>\n",
              "    </tr>\n",
              "    <tr>\n",
              "      <th>3</th>\n",
              "      <td>.. Omgaga . Im sooo im gunna CRy . I 've denti...</td>\n",
              "    </tr>\n",
              "    <tr>\n",
              "      <th>4</th>\n",
              "      <td>think mi bf cheating ! ! ! T_T</td>\n",
              "    </tr>\n",
              "    <tr>\n",
              "      <th>...</th>\n",
              "      <td>...</td>\n",
              "    </tr>\n",
              "    <tr>\n",
              "      <th>99984</th>\n",
              "      <td>@ Cupcake seems like repeating problem hope 'r...</td>\n",
              "    </tr>\n",
              "    <tr>\n",
              "      <th>99985</th>\n",
              "      <td>@ cupcake__ arrrr replied different tweet time...</td>\n",
              "    </tr>\n",
              "    <tr>\n",
              "      <th>99986</th>\n",
              "      <td>@ CuPcAkE_2120 ya thought</td>\n",
              "    </tr>\n",
              "    <tr>\n",
              "      <th>99987</th>\n",
              "      <td>@ Cupcake_Dollie Yes . Yes . I 'm glad fun .</td>\n",
              "    </tr>\n",
              "    <tr>\n",
              "      <th>99988</th>\n",
              "      <td>@ cupcake_kayla haha yes</td>\n",
              "    </tr>\n",
              "  </tbody>\n",
              "</table>\n",
              "<p>99989 rows × 1 columns</p>\n",
              "</div>\n",
              "      <button class=\"colab-df-convert\" onclick=\"convertToInteractive('df-75b005a5-075d-49da-b6a2-bcf3cf8451c2')\"\n",
              "              title=\"Convert this dataframe to an interactive table.\"\n",
              "              style=\"display:none;\">\n",
              "        \n",
              "  <svg xmlns=\"http://www.w3.org/2000/svg\" height=\"24px\"viewBox=\"0 0 24 24\"\n",
              "       width=\"24px\">\n",
              "    <path d=\"M0 0h24v24H0V0z\" fill=\"none\"/>\n",
              "    <path d=\"M18.56 5.44l.94 2.06.94-2.06 2.06-.94-2.06-.94-.94-2.06-.94 2.06-2.06.94zm-11 1L8.5 8.5l.94-2.06 2.06-.94-2.06-.94L8.5 2.5l-.94 2.06-2.06.94zm10 10l.94 2.06.94-2.06 2.06-.94-2.06-.94-.94-2.06-.94 2.06-2.06.94z\"/><path d=\"M17.41 7.96l-1.37-1.37c-.4-.4-.92-.59-1.43-.59-.52 0-1.04.2-1.43.59L10.3 9.45l-7.72 7.72c-.78.78-.78 2.05 0 2.83L4 21.41c.39.39.9.59 1.41.59.51 0 1.02-.2 1.41-.59l7.78-7.78 2.81-2.81c.8-.78.8-2.07 0-2.86zM5.41 20L4 18.59l7.72-7.72 1.47 1.35L5.41 20z\"/>\n",
              "  </svg>\n",
              "      </button>\n",
              "      \n",
              "  <style>\n",
              "    .colab-df-container {\n",
              "      display:flex;\n",
              "      flex-wrap:wrap;\n",
              "      gap: 12px;\n",
              "    }\n",
              "\n",
              "    .colab-df-convert {\n",
              "      background-color: #E8F0FE;\n",
              "      border: none;\n",
              "      border-radius: 50%;\n",
              "      cursor: pointer;\n",
              "      display: none;\n",
              "      fill: #1967D2;\n",
              "      height: 32px;\n",
              "      padding: 0 0 0 0;\n",
              "      width: 32px;\n",
              "    }\n",
              "\n",
              "    .colab-df-convert:hover {\n",
              "      background-color: #E2EBFA;\n",
              "      box-shadow: 0px 1px 2px rgba(60, 64, 67, 0.3), 0px 1px 3px 1px rgba(60, 64, 67, 0.15);\n",
              "      fill: #174EA6;\n",
              "    }\n",
              "\n",
              "    [theme=dark] .colab-df-convert {\n",
              "      background-color: #3B4455;\n",
              "      fill: #D2E3FC;\n",
              "    }\n",
              "\n",
              "    [theme=dark] .colab-df-convert:hover {\n",
              "      background-color: #434B5C;\n",
              "      box-shadow: 0px 1px 3px 1px rgba(0, 0, 0, 0.15);\n",
              "      filter: drop-shadow(0px 1px 2px rgba(0, 0, 0, 0.3));\n",
              "      fill: #FFFFFF;\n",
              "    }\n",
              "  </style>\n",
              "\n",
              "      <script>\n",
              "        const buttonEl =\n",
              "          document.querySelector('#df-75b005a5-075d-49da-b6a2-bcf3cf8451c2 button.colab-df-convert');\n",
              "        buttonEl.style.display =\n",
              "          google.colab.kernel.accessAllowed ? 'block' : 'none';\n",
              "\n",
              "        async function convertToInteractive(key) {\n",
              "          const element = document.querySelector('#df-75b005a5-075d-49da-b6a2-bcf3cf8451c2');\n",
              "          const dataTable =\n",
              "            await google.colab.kernel.invokeFunction('convertToInteractive',\n",
              "                                                     [key], {});\n",
              "          if (!dataTable) return;\n",
              "\n",
              "          const docLinkHtml = 'Like what you see? Visit the ' +\n",
              "            '<a target=\"_blank\" href=https://colab.research.google.com/notebooks/data_table.ipynb>data table notebook</a>'\n",
              "            + ' to learn more about interactive tables.';\n",
              "          element.innerHTML = '';\n",
              "          dataTable['output_type'] = 'display_data';\n",
              "          await google.colab.output.renderOutput(dataTable, element);\n",
              "          const docLink = document.createElement('div');\n",
              "          docLink.innerHTML = docLinkHtml;\n",
              "          element.appendChild(docLink);\n",
              "        }\n",
              "      </script>\n",
              "    </div>\n",
              "  </div>\n",
              "  "
            ],
            "text/plain": [
              "                                          Preprocessed_5\n",
              "0                          sad APL friend ............. \n",
              "1                         I missed New Moon trailer ... \n",
              "2                                  omg already 7:30 : O \n",
              "3      .. Omgaga . Im sooo im gunna CRy . I 've denti...\n",
              "4                        think mi bf cheating ! ! ! T_T \n",
              "...                                                  ...\n",
              "99984  @ Cupcake seems like repeating problem hope 'r...\n",
              "99985  @ cupcake__ arrrr replied different tweet time...\n",
              "99986                         @ CuPcAkE_2120 ya thought \n",
              "99987      @ Cupcake_Dollie Yes . Yes . I 'm glad fun . \n",
              "99988                          @ cupcake_kayla haha yes \n",
              "\n",
              "[99989 rows x 1 columns]"
            ]
          },
          "execution_count": 28,
          "metadata": {},
          "output_type": "execute_result"
        }
      ],
      "source": [
        "df[['Preprocessed_5']]"
      ]
    },
    {
      "cell_type": "code",
      "execution_count": 29,
      "id": "69ebaf03",
      "metadata": {
        "id": "69ebaf03"
      },
      "outputs": [],
      "source": [
        "#removing empty rows\n",
        "df=df[df['Preprocessed_5']!='']"
      ]
    },
    {
      "cell_type": "code",
      "execution_count": 30,
      "id": "484bc272",
      "metadata": {
        "colab": {
          "base_uri": "https://localhost:8080/"
        },
        "id": "484bc272",
        "outputId": "a158f73d-9dc0-4ebc-d7ee-8182a10eb940"
      },
      "outputs": [
        {
          "data": {
            "text/plain": [
              "(99985, 8)"
            ]
          },
          "execution_count": 30,
          "metadata": {},
          "output_type": "execute_result"
        }
      ],
      "source": [
        "df.shape"
      ]
    },
    {
      "cell_type": "code",
      "execution_count": 31,
      "id": "df0fa0c4",
      "metadata": {
        "colab": {
          "base_uri": "https://localhost:8080/",
          "height": 424
        },
        "id": "df0fa0c4",
        "outputId": "46bc0600-63dc-4dd4-da7e-45b53be3289b"
      },
      "outputs": [
        {
          "data": {
            "text/html": [
              "\n",
              "  <div id=\"df-105d527e-8aa7-4e6b-865d-d7230902336c\">\n",
              "    <div class=\"colab-df-container\">\n",
              "      <div>\n",
              "<style scoped>\n",
              "    .dataframe tbody tr th:only-of-type {\n",
              "        vertical-align: middle;\n",
              "    }\n",
              "\n",
              "    .dataframe tbody tr th {\n",
              "        vertical-align: top;\n",
              "    }\n",
              "\n",
              "    .dataframe thead th {\n",
              "        text-align: right;\n",
              "    }\n",
              "</style>\n",
              "<table border=\"1\" class=\"dataframe\">\n",
              "  <thead>\n",
              "    <tr style=\"text-align: right;\">\n",
              "      <th></th>\n",
              "      <th>Preprocessed_5</th>\n",
              "    </tr>\n",
              "  </thead>\n",
              "  <tbody>\n",
              "    <tr>\n",
              "      <th>0</th>\n",
              "      <td>sad APL friend .............</td>\n",
              "    </tr>\n",
              "    <tr>\n",
              "      <th>1</th>\n",
              "      <td>I missed New Moon trailer ...</td>\n",
              "    </tr>\n",
              "    <tr>\n",
              "      <th>2</th>\n",
              "      <td>omg already 7:30 : O</td>\n",
              "    </tr>\n",
              "    <tr>\n",
              "      <th>3</th>\n",
              "      <td>.. Omgaga . Im sooo im gunna CRy . I 've denti...</td>\n",
              "    </tr>\n",
              "    <tr>\n",
              "      <th>4</th>\n",
              "      <td>think mi bf cheating ! ! ! T_T</td>\n",
              "    </tr>\n",
              "    <tr>\n",
              "      <th>...</th>\n",
              "      <td>...</td>\n",
              "    </tr>\n",
              "    <tr>\n",
              "      <th>99984</th>\n",
              "      <td>@ Cupcake seems like repeating problem hope 'r...</td>\n",
              "    </tr>\n",
              "    <tr>\n",
              "      <th>99985</th>\n",
              "      <td>@ cupcake__ arrrr replied different tweet time...</td>\n",
              "    </tr>\n",
              "    <tr>\n",
              "      <th>99986</th>\n",
              "      <td>@ CuPcAkE_2120 ya thought</td>\n",
              "    </tr>\n",
              "    <tr>\n",
              "      <th>99987</th>\n",
              "      <td>@ Cupcake_Dollie Yes . Yes . I 'm glad fun .</td>\n",
              "    </tr>\n",
              "    <tr>\n",
              "      <th>99988</th>\n",
              "      <td>@ cupcake_kayla haha yes</td>\n",
              "    </tr>\n",
              "  </tbody>\n",
              "</table>\n",
              "<p>99985 rows × 1 columns</p>\n",
              "</div>\n",
              "      <button class=\"colab-df-convert\" onclick=\"convertToInteractive('df-105d527e-8aa7-4e6b-865d-d7230902336c')\"\n",
              "              title=\"Convert this dataframe to an interactive table.\"\n",
              "              style=\"display:none;\">\n",
              "        \n",
              "  <svg xmlns=\"http://www.w3.org/2000/svg\" height=\"24px\"viewBox=\"0 0 24 24\"\n",
              "       width=\"24px\">\n",
              "    <path d=\"M0 0h24v24H0V0z\" fill=\"none\"/>\n",
              "    <path d=\"M18.56 5.44l.94 2.06.94-2.06 2.06-.94-2.06-.94-.94-2.06-.94 2.06-2.06.94zm-11 1L8.5 8.5l.94-2.06 2.06-.94-2.06-.94L8.5 2.5l-.94 2.06-2.06.94zm10 10l.94 2.06.94-2.06 2.06-.94-2.06-.94-.94-2.06-.94 2.06-2.06.94z\"/><path d=\"M17.41 7.96l-1.37-1.37c-.4-.4-.92-.59-1.43-.59-.52 0-1.04.2-1.43.59L10.3 9.45l-7.72 7.72c-.78.78-.78 2.05 0 2.83L4 21.41c.39.39.9.59 1.41.59.51 0 1.02-.2 1.41-.59l7.78-7.78 2.81-2.81c.8-.78.8-2.07 0-2.86zM5.41 20L4 18.59l7.72-7.72 1.47 1.35L5.41 20z\"/>\n",
              "  </svg>\n",
              "      </button>\n",
              "      \n",
              "  <style>\n",
              "    .colab-df-container {\n",
              "      display:flex;\n",
              "      flex-wrap:wrap;\n",
              "      gap: 12px;\n",
              "    }\n",
              "\n",
              "    .colab-df-convert {\n",
              "      background-color: #E8F0FE;\n",
              "      border: none;\n",
              "      border-radius: 50%;\n",
              "      cursor: pointer;\n",
              "      display: none;\n",
              "      fill: #1967D2;\n",
              "      height: 32px;\n",
              "      padding: 0 0 0 0;\n",
              "      width: 32px;\n",
              "    }\n",
              "\n",
              "    .colab-df-convert:hover {\n",
              "      background-color: #E2EBFA;\n",
              "      box-shadow: 0px 1px 2px rgba(60, 64, 67, 0.3), 0px 1px 3px 1px rgba(60, 64, 67, 0.15);\n",
              "      fill: #174EA6;\n",
              "    }\n",
              "\n",
              "    [theme=dark] .colab-df-convert {\n",
              "      background-color: #3B4455;\n",
              "      fill: #D2E3FC;\n",
              "    }\n",
              "\n",
              "    [theme=dark] .colab-df-convert:hover {\n",
              "      background-color: #434B5C;\n",
              "      box-shadow: 0px 1px 3px 1px rgba(0, 0, 0, 0.15);\n",
              "      filter: drop-shadow(0px 1px 2px rgba(0, 0, 0, 0.3));\n",
              "      fill: #FFFFFF;\n",
              "    }\n",
              "  </style>\n",
              "\n",
              "      <script>\n",
              "        const buttonEl =\n",
              "          document.querySelector('#df-105d527e-8aa7-4e6b-865d-d7230902336c button.colab-df-convert');\n",
              "        buttonEl.style.display =\n",
              "          google.colab.kernel.accessAllowed ? 'block' : 'none';\n",
              "\n",
              "        async function convertToInteractive(key) {\n",
              "          const element = document.querySelector('#df-105d527e-8aa7-4e6b-865d-d7230902336c');\n",
              "          const dataTable =\n",
              "            await google.colab.kernel.invokeFunction('convertToInteractive',\n",
              "                                                     [key], {});\n",
              "          if (!dataTable) return;\n",
              "\n",
              "          const docLinkHtml = 'Like what you see? Visit the ' +\n",
              "            '<a target=\"_blank\" href=https://colab.research.google.com/notebooks/data_table.ipynb>data table notebook</a>'\n",
              "            + ' to learn more about interactive tables.';\n",
              "          element.innerHTML = '';\n",
              "          dataTable['output_type'] = 'display_data';\n",
              "          await google.colab.output.renderOutput(dataTable, element);\n",
              "          const docLink = document.createElement('div');\n",
              "          docLink.innerHTML = docLinkHtml;\n",
              "          element.appendChild(docLink);\n",
              "        }\n",
              "      </script>\n",
              "    </div>\n",
              "  </div>\n",
              "  "
            ],
            "text/plain": [
              "                                          Preprocessed_5\n",
              "0                          sad APL friend ............. \n",
              "1                         I missed New Moon trailer ... \n",
              "2                                  omg already 7:30 : O \n",
              "3      .. Omgaga . Im sooo im gunna CRy . I 've denti...\n",
              "4                        think mi bf cheating ! ! ! T_T \n",
              "...                                                  ...\n",
              "99984  @ Cupcake seems like repeating problem hope 'r...\n",
              "99985  @ cupcake__ arrrr replied different tweet time...\n",
              "99986                         @ CuPcAkE_2120 ya thought \n",
              "99987      @ Cupcake_Dollie Yes . Yes . I 'm glad fun . \n",
              "99988                          @ cupcake_kayla haha yes \n",
              "\n",
              "[99985 rows x 1 columns]"
            ]
          },
          "execution_count": 31,
          "metadata": {},
          "output_type": "execute_result"
        }
      ],
      "source": [
        "df[['Preprocessed_5']]"
      ]
    },
    {
      "cell_type": "code",
      "execution_count": 32,
      "id": "97f4a626",
      "metadata": {
        "id": "97f4a626"
      },
      "outputs": [],
      "source": [
        "per=list()\n",
        "df2 = pd.DataFrame()\n",
        "df2['Clean Tweets']=df['SentimentText']\n",
        "df2['Sentiment']=df['Sentiment']"
      ]
    },
    {
      "cell_type": "code",
      "execution_count": 33,
      "id": "93ebf5d2",
      "metadata": {
        "colab": {
          "base_uri": "https://localhost:8080/",
          "height": 424
        },
        "id": "93ebf5d2",
        "outputId": "9dad07d4-072a-47fe-9305-a2f7521d7242"
      },
      "outputs": [
        {
          "data": {
            "text/html": [
              "\n",
              "  <div id=\"df-35f2988c-5090-46d2-aafe-3a9d57f6596e\">\n",
              "    <div class=\"colab-df-container\">\n",
              "      <div>\n",
              "<style scoped>\n",
              "    .dataframe tbody tr th:only-of-type {\n",
              "        vertical-align: middle;\n",
              "    }\n",
              "\n",
              "    .dataframe tbody tr th {\n",
              "        vertical-align: top;\n",
              "    }\n",
              "\n",
              "    .dataframe thead th {\n",
              "        text-align: right;\n",
              "    }\n",
              "</style>\n",
              "<table border=\"1\" class=\"dataframe\">\n",
              "  <thead>\n",
              "    <tr style=\"text-align: right;\">\n",
              "      <th></th>\n",
              "      <th>Clean Tweets</th>\n",
              "      <th>Sentiment</th>\n",
              "    </tr>\n",
              "  </thead>\n",
              "  <tbody>\n",
              "    <tr>\n",
              "      <th>0</th>\n",
              "      <td>is so sad for my APL frie...</td>\n",
              "      <td>0</td>\n",
              "    </tr>\n",
              "    <tr>\n",
              "      <th>1</th>\n",
              "      <td>I missed the New Moon trail...</td>\n",
              "      <td>0</td>\n",
              "    </tr>\n",
              "    <tr>\n",
              "      <th>2</th>\n",
              "      <td>omg its already 7:30 :O</td>\n",
              "      <td>1</td>\n",
              "    </tr>\n",
              "    <tr>\n",
              "      <th>3</th>\n",
              "      <td>.. Omgaga. Im sooo  im gunna CRy. I'...</td>\n",
              "      <td>0</td>\n",
              "    </tr>\n",
              "    <tr>\n",
              "      <th>4</th>\n",
              "      <td>i think mi bf is cheating on me!!!   ...</td>\n",
              "      <td>0</td>\n",
              "    </tr>\n",
              "    <tr>\n",
              "      <th>...</th>\n",
              "      <td>...</td>\n",
              "      <td>...</td>\n",
              "    </tr>\n",
              "    <tr>\n",
              "      <th>99984</th>\n",
              "      <td>@Cupcake  seems like a repeating problem   hop...</td>\n",
              "      <td>0</td>\n",
              "    </tr>\n",
              "    <tr>\n",
              "      <th>99985</th>\n",
              "      <td>@cupcake__ arrrr we both replied to each other...</td>\n",
              "      <td>1</td>\n",
              "    </tr>\n",
              "    <tr>\n",
              "      <th>99986</th>\n",
              "      <td>@CuPcAkE_2120 ya i thought so</td>\n",
              "      <td>0</td>\n",
              "    </tr>\n",
              "    <tr>\n",
              "      <th>99987</th>\n",
              "      <td>@Cupcake_Dollie Yes. Yes. I'm glad you had mor...</td>\n",
              "      <td>1</td>\n",
              "    </tr>\n",
              "    <tr>\n",
              "      <th>99988</th>\n",
              "      <td>@cupcake_kayla haha yes you do</td>\n",
              "      <td>1</td>\n",
              "    </tr>\n",
              "  </tbody>\n",
              "</table>\n",
              "<p>99985 rows × 2 columns</p>\n",
              "</div>\n",
              "      <button class=\"colab-df-convert\" onclick=\"convertToInteractive('df-35f2988c-5090-46d2-aafe-3a9d57f6596e')\"\n",
              "              title=\"Convert this dataframe to an interactive table.\"\n",
              "              style=\"display:none;\">\n",
              "        \n",
              "  <svg xmlns=\"http://www.w3.org/2000/svg\" height=\"24px\"viewBox=\"0 0 24 24\"\n",
              "       width=\"24px\">\n",
              "    <path d=\"M0 0h24v24H0V0z\" fill=\"none\"/>\n",
              "    <path d=\"M18.56 5.44l.94 2.06.94-2.06 2.06-.94-2.06-.94-.94-2.06-.94 2.06-2.06.94zm-11 1L8.5 8.5l.94-2.06 2.06-.94-2.06-.94L8.5 2.5l-.94 2.06-2.06.94zm10 10l.94 2.06.94-2.06 2.06-.94-2.06-.94-.94-2.06-.94 2.06-2.06.94z\"/><path d=\"M17.41 7.96l-1.37-1.37c-.4-.4-.92-.59-1.43-.59-.52 0-1.04.2-1.43.59L10.3 9.45l-7.72 7.72c-.78.78-.78 2.05 0 2.83L4 21.41c.39.39.9.59 1.41.59.51 0 1.02-.2 1.41-.59l7.78-7.78 2.81-2.81c.8-.78.8-2.07 0-2.86zM5.41 20L4 18.59l7.72-7.72 1.47 1.35L5.41 20z\"/>\n",
              "  </svg>\n",
              "      </button>\n",
              "      \n",
              "  <style>\n",
              "    .colab-df-container {\n",
              "      display:flex;\n",
              "      flex-wrap:wrap;\n",
              "      gap: 12px;\n",
              "    }\n",
              "\n",
              "    .colab-df-convert {\n",
              "      background-color: #E8F0FE;\n",
              "      border: none;\n",
              "      border-radius: 50%;\n",
              "      cursor: pointer;\n",
              "      display: none;\n",
              "      fill: #1967D2;\n",
              "      height: 32px;\n",
              "      padding: 0 0 0 0;\n",
              "      width: 32px;\n",
              "    }\n",
              "\n",
              "    .colab-df-convert:hover {\n",
              "      background-color: #E2EBFA;\n",
              "      box-shadow: 0px 1px 2px rgba(60, 64, 67, 0.3), 0px 1px 3px 1px rgba(60, 64, 67, 0.15);\n",
              "      fill: #174EA6;\n",
              "    }\n",
              "\n",
              "    [theme=dark] .colab-df-convert {\n",
              "      background-color: #3B4455;\n",
              "      fill: #D2E3FC;\n",
              "    }\n",
              "\n",
              "    [theme=dark] .colab-df-convert:hover {\n",
              "      background-color: #434B5C;\n",
              "      box-shadow: 0px 1px 3px 1px rgba(0, 0, 0, 0.15);\n",
              "      filter: drop-shadow(0px 1px 2px rgba(0, 0, 0, 0.3));\n",
              "      fill: #FFFFFF;\n",
              "    }\n",
              "  </style>\n",
              "\n",
              "      <script>\n",
              "        const buttonEl =\n",
              "          document.querySelector('#df-35f2988c-5090-46d2-aafe-3a9d57f6596e button.colab-df-convert');\n",
              "        buttonEl.style.display =\n",
              "          google.colab.kernel.accessAllowed ? 'block' : 'none';\n",
              "\n",
              "        async function convertToInteractive(key) {\n",
              "          const element = document.querySelector('#df-35f2988c-5090-46d2-aafe-3a9d57f6596e');\n",
              "          const dataTable =\n",
              "            await google.colab.kernel.invokeFunction('convertToInteractive',\n",
              "                                                     [key], {});\n",
              "          if (!dataTable) return;\n",
              "\n",
              "          const docLinkHtml = 'Like what you see? Visit the ' +\n",
              "            '<a target=\"_blank\" href=https://colab.research.google.com/notebooks/data_table.ipynb>data table notebook</a>'\n",
              "            + ' to learn more about interactive tables.';\n",
              "          element.innerHTML = '';\n",
              "          dataTable['output_type'] = 'display_data';\n",
              "          await google.colab.output.renderOutput(dataTable, element);\n",
              "          const docLink = document.createElement('div');\n",
              "          docLink.innerHTML = docLinkHtml;\n",
              "          element.appendChild(docLink);\n",
              "        }\n",
              "      </script>\n",
              "    </div>\n",
              "  </div>\n",
              "  "
            ],
            "text/plain": [
              "                                            Clean Tweets  Sentiment\n",
              "0                           is so sad for my APL frie...          0\n",
              "1                         I missed the New Moon trail...          0\n",
              "2                                omg its already 7:30 :O          1\n",
              "3                .. Omgaga. Im sooo  im gunna CRy. I'...          0\n",
              "4               i think mi bf is cheating on me!!!   ...          0\n",
              "...                                                  ...        ...\n",
              "99984  @Cupcake  seems like a repeating problem   hop...          0\n",
              "99985  @cupcake__ arrrr we both replied to each other...          1\n",
              "99986                     @CuPcAkE_2120 ya i thought so           0\n",
              "99987  @Cupcake_Dollie Yes. Yes. I'm glad you had mor...          1\n",
              "99988                    @cupcake_kayla haha yes you do           1\n",
              "\n",
              "[99985 rows x 2 columns]"
            ]
          },
          "execution_count": 33,
          "metadata": {},
          "output_type": "execute_result"
        }
      ],
      "source": [
        "df2"
      ]
    },
    {
      "cell_type": "code",
      "execution_count": 34,
      "id": "fb813a41",
      "metadata": {
        "colab": {
          "base_uri": "https://localhost:8080/"
        },
        "id": "fb813a41",
        "outputId": "9db3ce3f-7380-4f65-b188-2d37c80e3e63"
      },
      "outputs": [
        {
          "name": "stdout",
          "output_type": "stream",
          "text": [
            "Looking in indexes: https://pypi.org/simple, https://us-python.pkg.dev/colab-wheels/public/simple/\n",
            "Requirement already satisfied: sklearn in /usr/local/lib/python3.7/dist-packages (0.0)\n",
            "Requirement already satisfied: scikit-learn in /usr/local/lib/python3.7/dist-packages (from sklearn) (1.0.2)\n",
            "Requirement already satisfied: threadpoolctl>=2.0.0 in /usr/local/lib/python3.7/dist-packages (from scikit-learn->sklearn) (3.1.0)\n",
            "Requirement already satisfied: scipy>=1.1.0 in /usr/local/lib/python3.7/dist-packages (from scikit-learn->sklearn) (1.4.1)\n",
            "Requirement already satisfied: numpy>=1.14.6 in /usr/local/lib/python3.7/dist-packages (from scikit-learn->sklearn) (1.21.6)\n",
            "Requirement already satisfied: joblib>=0.11 in /usr/local/lib/python3.7/dist-packages (from scikit-learn->sklearn) (1.1.0)\n"
          ]
        }
      ],
      "source": [
        "pip install sklearn"
      ]
    },
    {
      "cell_type": "code",
      "execution_count": 35,
      "id": "5e7f944d",
      "metadata": {
        "id": "5e7f944d"
      },
      "outputs": [],
      "source": [
        "#FEATURE EXTRACTION - Mapping from textual data into real valued vectors for making compatible with model\n",
        "from sklearn.feature_extraction.text import TfidfVectorizer\n",
        "vectorizer=TfidfVectorizer()        #Loading tfidf function to our variable"
      ]
    },
    {
      "cell_type": "code",
      "execution_count": 36,
      "id": "83ffa39f",
      "metadata": {
        "id": "83ffa39f"
      },
      "outputs": [],
      "source": [
        "#Fitting and transforming the vectorizer to our data\n",
        "x=df2['Clean Tweets']\n",
        "vectorizer.fit(x)\n",
        "\n",
        "x=vectorizer.transform(x)   #Transforming all the text data and gives corresponding tf-idf value"
      ]
    },
    {
      "cell_type": "code",
      "execution_count": 37,
      "id": "6434d475",
      "metadata": {
        "colab": {
          "base_uri": "https://localhost:8080/"
        },
        "id": "6434d475",
        "outputId": "14f6e2df-82c8-4977-b2e0-adf77725ab68"
      },
      "outputs": [
        {
          "name": "stdout",
          "output_type": "stream",
          "text": [
            "  (0, 93674)\t0.22523244176959206\n",
            "  (0, 90542)\t0.33719361940549114\n",
            "  (0, 80817)\t0.20078834049859604\n",
            "  (0, 71938)\t0.20751257559588177\n",
            "  (0, 65503)\t0.3930087153818444\n",
            "  (0, 65062)\t0.20497498406511383\n",
            "  (0, 21665)\t0.7454681676889592\n",
            "  (1, 99049)\t0.5937007613243295\n",
            "  (1, 97552)\t0.16918072294342693\n",
            "  (1, 81633)\t0.3550604260690351\n",
            "  (1, 80032)\t0.562039068758136\n",
            "  (1, 79478)\t0.4206441108780835\n",
            "  (2, 83232)\t0.5069438375250558\n",
            "  (2, 72089)\t0.4013163925253586\n",
            "  (2, 14693)\t0.4877150683224832\n",
            "  (2, 1718)\t0.5865893885990415\n",
            "  (3, 102394)\t0.11225428501612061\n",
            "  (3, 101379)\t0.14902415832321234\n",
            "  (3, 97908)\t0.12296298350068229\n",
            "  (3, 96026)\t0.35668908211678\n",
            "  (3, 93951)\t0.20899652813505268\n",
            "  (3, 92847)\t0.1861101582493583\n",
            "  (3, 87411)\t0.18785375735178111\n",
            "  (3, 83282)\t0.10256590807138256\n",
            "  (3, 83233)\t0.35668908211678\n",
            "  :\t:\n",
            "  (99981, 61592)\t0.21806006453264565\n",
            "  (99981, 61442)\t0.315503091927943\n",
            "  (99981, 59990)\t0.21871993110714344\n",
            "  (99981, 58287)\t0.35290777198359047\n",
            "  (99981, 37857)\t0.1887135913125785\n",
            "  (99981, 25403)\t0.11882544140867304\n",
            "  (99981, 23215)\t0.35290777198359047\n",
            "  (99982, 104481)\t0.38564744764597697\n",
            "  (99982, 97996)\t0.3883193277063043\n",
            "  (99982, 93674)\t0.23442305456901064\n",
            "  (99982, 58286)\t0.8034488019409838\n",
            "  (99983, 104998)\t0.12412622539815502\n",
            "  (99983, 104804)\t0.5194987862995525\n",
            "  (99983, 103563)\t0.20207849574963016\n",
            "  (99983, 80078)\t0.25007366240152173\n",
            "  (99983, 78448)\t0.1669248727138983\n",
            "  (99983, 68082)\t0.24155865981107355\n",
            "  (99983, 66760)\t0.2927737123807817\n",
            "  (99983, 65738)\t0.2627771966799482\n",
            "  (99983, 58288)\t0.6085707313976616\n",
            "  (99984, 104998)\t0.1667759631454227\n",
            "  (99984, 104804)\t0.34899921495265973\n",
            "  (99984, 68111)\t0.317020077973281\n",
            "  (99984, 60585)\t0.28511474819892185\n",
            "  (99984, 58289)\t0.8176754714436676\n"
          ]
        }
      ],
      "source": [
        "print(x)"
      ]
    },
    {
      "cell_type": "code",
      "execution_count": 38,
      "id": "8cfbcaf3",
      "metadata": {
        "id": "8cfbcaf3"
      },
      "outputs": [],
      "source": [
        "from sklearn.model_selection import train_test_split"
      ]
    },
    {
      "cell_type": "code",
      "execution_count": 39,
      "id": "31c9a0f3",
      "metadata": {
        "id": "31c9a0f3"
      },
      "outputs": [],
      "source": [
        "x_train,x_test,y_train,y_test=train_test_split(x,df2['Sentiment'],test_size=0.20,train_size=0.80)"
      ]
    },
    {
      "cell_type": "code",
      "execution_count": 40,
      "id": "4b016ef7",
      "metadata": {
        "colab": {
          "base_uri": "https://localhost:8080/"
        },
        "id": "4b016ef7",
        "outputId": "8e0234ef-0b86-404d-c7da-668c6753c3f7"
      },
      "outputs": [
        {
          "data": {
            "text/plain": [
              "(79988, 105849)"
            ]
          },
          "execution_count": 40,
          "metadata": {},
          "output_type": "execute_result"
        }
      ],
      "source": [
        "x_train.shape"
      ]
    },
    {
      "cell_type": "code",
      "execution_count": 41,
      "id": "35534fd0",
      "metadata": {
        "colab": {
          "base_uri": "https://localhost:8080/"
        },
        "id": "35534fd0",
        "outputId": "59faaab0-45aa-4ff0-fc15-7e863c10891d"
      },
      "outputs": [
        {
          "data": {
            "text/plain": [
              "(19997, 105849)"
            ]
          },
          "execution_count": 41,
          "metadata": {},
          "output_type": "execute_result"
        }
      ],
      "source": [
        "x_test.shape"
      ]
    },
    {
      "cell_type": "code",
      "execution_count": 42,
      "id": "7d7a6d23",
      "metadata": {
        "colab": {
          "base_uri": "https://localhost:8080/"
        },
        "id": "7d7a6d23",
        "outputId": "8ce5834f-a708-44c0-faf9-5763f121a3b9"
      },
      "outputs": [
        {
          "data": {
            "text/plain": [
              "(79988,)"
            ]
          },
          "execution_count": 42,
          "metadata": {},
          "output_type": "execute_result"
        }
      ],
      "source": [
        "y_train.shape"
      ]
    },
    {
      "cell_type": "code",
      "execution_count": 43,
      "id": "66be8b7b",
      "metadata": {
        "colab": {
          "base_uri": "https://localhost:8080/"
        },
        "id": "66be8b7b",
        "outputId": "2c251daf-bd8d-4570-bfb2-d5ba9c174655"
      },
      "outputs": [
        {
          "data": {
            "text/plain": [
              "(19997,)"
            ]
          },
          "execution_count": 43,
          "metadata": {},
          "output_type": "execute_result"
        }
      ],
      "source": [
        "y_test.shape"
      ]
    },
    {
      "cell_type": "code",
      "execution_count": 43,
      "id": "1c98f0f6",
      "metadata": {
        "id": "1c98f0f6"
      },
      "outputs": [],
      "source": []
    },
    {
      "cell_type": "code",
      "execution_count": 44,
      "id": "cb0f68e1",
      "metadata": {
        "id": "cb0f68e1"
      },
      "outputs": [],
      "source": [
        "from sklearn.metrics import accuracy_score\n",
        "from sklearn.metrics import precision_score\n",
        "from sklearn.metrics import recall_score\n",
        "from sklearn.metrics import f1_score"
      ]
    },
    {
      "cell_type": "code",
      "execution_count": 45,
      "id": "uDDjFG-rY0Hg",
      "metadata": {
        "id": "uDDjFG-rY0Hg"
      },
      "outputs": [],
      "source": [
        "import functools\n",
        "import sys\n",
        "import matplotlib.pyplot as plt\n",
        "import numpy as np\n",
        "import torch\n",
        "import torch.nn as nn\n",
        "import torch.optim as optim\n",
        "import torchtext\n",
        "import tqdm"
      ]
    },
    {
      "cell_type": "code",
      "execution_count": 45,
      "id": "y4sG8PLtY7Bw",
      "metadata": {
        "id": "y4sG8PLtY7Bw"
      },
      "outputs": [],
      "source": []
    },
    {
      "cell_type": "code",
      "execution_count": 46,
      "id": "ff41766a",
      "metadata": {
        "id": "ff41766a"
      },
      "outputs": [],
      "source": [
        "#LOGISTIC REGRESSION\n",
        "from sklearn.linear_model import LogisticRegression\n",
        "lrc=LogisticRegression()"
      ]
    },
    {
      "cell_type": "code",
      "execution_count": 47,
      "id": "c252428b",
      "metadata": {
        "colab": {
          "base_uri": "https://localhost:8080/"
        },
        "id": "c252428b",
        "outputId": "4c5431a3-568a-4e2b-e67b-c39644d307fb"
      },
      "outputs": [
        {
          "name": "stderr",
          "output_type": "stream",
          "text": [
            "/usr/local/lib/python3.7/dist-packages/sklearn/linear_model/_logistic.py:818: ConvergenceWarning: lbfgs failed to converge (status=1):\n",
            "STOP: TOTAL NO. of ITERATIONS REACHED LIMIT.\n",
            "\n",
            "Increase the number of iterations (max_iter) or scale the data as shown in:\n",
            "    https://scikit-learn.org/stable/modules/preprocessing.html\n",
            "Please also refer to the documentation for alternative solver options:\n",
            "    https://scikit-learn.org/stable/modules/linear_model.html#logistic-regression\n",
            "  extra_warning_msg=_LOGISTIC_SOLVER_CONVERGENCE_MSG,\n"
          ]
        },
        {
          "data": {
            "text/plain": [
              "LogisticRegression()"
            ]
          },
          "execution_count": 47,
          "metadata": {},
          "output_type": "execute_result"
        }
      ],
      "source": [
        "lrc.fit(x_train,y_train)"
      ]
    },
    {
      "cell_type": "code",
      "execution_count": 48,
      "id": "53f9a474",
      "metadata": {
        "id": "53f9a474"
      },
      "outputs": [],
      "source": [
        "y_pred2=lrc.predict(x_test)"
      ]
    },
    {
      "cell_type": "code",
      "execution_count": 49,
      "id": "af79b0fb",
      "metadata": {
        "id": "af79b0fb"
      },
      "outputs": [],
      "source": [
        "lrc1=accuracy_score(y_pred2,y_test)\n",
        "lrc2=precision_score(y_pred2,y_test)\n",
        "lrc3=recall_score(y_pred2,y_test)\n",
        "lrc4=f1_score(y_pred2,y_test)"
      ]
    },
    {
      "cell_type": "code",
      "execution_count": 50,
      "id": "721627ad",
      "metadata": {
        "colab": {
          "base_uri": "https://localhost:8080/"
        },
        "id": "721627ad",
        "outputId": "e041bda1-fab2-47d6-e237-8d907ed4a37b"
      },
      "outputs": [
        {
          "name": "stdout",
          "output_type": "stream",
          "text": [
            "0.7741661249187378 0.8410859568447117 0.7776778413736714 0.8081400288894555\n"
          ]
        }
      ],
      "source": [
        "print(lrc1,lrc2,lrc3,lrc4)"
      ]
    },
    {
      "cell_type": "code",
      "execution_count": 51,
      "id": "Fo-iblG0eOUx",
      "metadata": {
        "id": "Fo-iblG0eOUx"
      },
      "outputs": [],
      "source": [
        "from xgboost import XGBClassifier\n",
        "classifier_xg = XGBClassifier()\n",
        "classifier_xg.fit(x_train, y_train)\n",
        "\n",
        "y_pred_xg = classifier_xg.predict(x_test)\n",
        "xgb1=accuracy_score(y_pred_xg,y_test)\n",
        "xgb2=precision_score(y_pred_xg,y_test)\n",
        "xgb3=recall_score(y_pred_xg,y_test)\n",
        "xgb4=f1_score(y_pred_xg,y_test)"
      ]
    },
    {
      "cell_type": "code",
      "execution_count": 52,
      "id": "Rl3hKmw7mg9a",
      "metadata": {
        "colab": {
          "base_uri": "https://localhost:8080/"
        },
        "id": "Rl3hKmw7mg9a",
        "outputId": "e020f062-0e5d-4726-d3a6-177bd1a466fb"
      },
      "outputs": [
        {
          "data": {
            "text/plain": [
              "(0.6930039505925889,\n",
              " 0.8912274495932083,\n",
              " 0.6724494561953693,\n",
              " 0.7665335615135958)"
            ]
          },
          "execution_count": 52,
          "metadata": {},
          "output_type": "execute_result"
        }
      ],
      "source": [
        "xgb1,xgb2,xgb3,xgb4"
      ]
    },
    {
      "cell_type": "code",
      "execution_count": 53,
      "id": "s3zg65_buz-Z",
      "metadata": {
        "id": "s3zg65_buz-Z"
      },
      "outputs": [],
      "source": [
        "import keras.models"
      ]
    },
    {
      "cell_type": "code",
      "execution_count": 54,
      "id": "KHRqtDPDu6ec",
      "metadata": {
        "id": "KHRqtDPDu6ec"
      },
      "outputs": [],
      "source": [
        "import pickle"
      ]
    },
    {
      "cell_type": "code",
      "execution_count": 55,
      "id": "gGN_xaHKv3cP",
      "metadata": {
        "id": "gGN_xaHKv3cP"
      },
      "outputs": [],
      "source": [
        "with open('/content/drive/MyDrive/Mini Project/lrc_pkl', 'wb') as files:\n",
        "    pickle.dump(lrc, files)"
      ]
    },
    {
      "cell_type": "code",
      "execution_count": 56,
      "id": "89ee0320",
      "metadata": {
        "id": "89ee0320"
      },
      "outputs": [],
      "source": [
        "#NAIVEBayes\n",
        "from sklearn.naive_bayes import MultinomialNB\n",
        "nb=MultinomialNB()"
      ]
    },
    {
      "cell_type": "code",
      "execution_count": 57,
      "id": "da9b0aea",
      "metadata": {
        "colab": {
          "base_uri": "https://localhost:8080/"
        },
        "id": "da9b0aea",
        "outputId": "6a70b6b0-1c27-4f8b-deed-7c658a3591d8"
      },
      "outputs": [
        {
          "data": {
            "text/plain": [
              "MultinomialNB()"
            ]
          },
          "execution_count": 57,
          "metadata": {},
          "output_type": "execute_result"
        }
      ],
      "source": [
        "nb.fit(x_train,y_train)"
      ]
    },
    {
      "cell_type": "code",
      "execution_count": 58,
      "id": "53f3657f",
      "metadata": {
        "id": "53f3657f"
      },
      "outputs": [],
      "source": [
        "y_pred3=nb.predict(x_test)"
      ]
    },
    {
      "cell_type": "code",
      "execution_count": 59,
      "id": "11bb4eea",
      "metadata": {
        "id": "11bb4eea"
      },
      "outputs": [],
      "source": [
        "nb1=accuracy_score(y_pred3,y_test)\n",
        "nb2=precision_score(y_pred3,y_test)\n",
        "nb3=recall_score(y_pred3,y_test)\n",
        "nb4=f1_score(y_pred3,y_test)"
      ]
    },
    {
      "cell_type": "code",
      "execution_count": 60,
      "id": "74921601",
      "metadata": {
        "colab": {
          "base_uri": "https://localhost:8080/"
        },
        "id": "74921601",
        "outputId": "a9dc7d38-d378-4899-db06-a7c40f90df1c"
      },
      "outputs": [
        {
          "name": "stdout",
          "output_type": "stream",
          "text": [
            "0.7412111816772516 0.8856561726211531 0.7206591350651219 0.7946835945248958\n"
          ]
        }
      ],
      "source": [
        "print(nb1,nb2,nb3,nb4)"
      ]
    },
    {
      "cell_type": "code",
      "execution_count": 61,
      "id": "b4820f51",
      "metadata": {
        "id": "b4820f51"
      },
      "outputs": [],
      "source": [
        "from sklearn.linear_model import SGDClassifier\n",
        "sgd=SGDClassifier(loss='hinge')"
      ]
    },
    {
      "cell_type": "code",
      "execution_count": 62,
      "id": "d6b899a2",
      "metadata": {
        "colab": {
          "base_uri": "https://localhost:8080/"
        },
        "id": "d6b899a2",
        "outputId": "98eac3ea-fb09-4925-f010-e77372f013eb"
      },
      "outputs": [
        {
          "data": {
            "text/plain": [
              "SGDClassifier()"
            ]
          },
          "execution_count": 62,
          "metadata": {},
          "output_type": "execute_result"
        }
      ],
      "source": [
        "sgd.fit(x_train,y_train)"
      ]
    },
    {
      "cell_type": "code",
      "execution_count": 63,
      "id": "686d8803",
      "metadata": {
        "id": "686d8803"
      },
      "outputs": [],
      "source": [
        "y_pred4=sgd.predict(x_test)"
      ]
    },
    {
      "cell_type": "code",
      "execution_count": 64,
      "id": "46c95cb0",
      "metadata": {
        "id": "46c95cb0"
      },
      "outputs": [],
      "source": [
        "sgd1=accuracy_score(y_pred4,y_test)\n",
        "sgd2=precision_score(y_pred4,y_test)\n",
        "sgd3=recall_score(y_pred4,y_test)\n",
        "sgd4=f1_score(y_pred4,y_test)"
      ]
    },
    {
      "cell_type": "code",
      "execution_count": 65,
      "id": "9748b132",
      "metadata": {
        "colab": {
          "base_uri": "https://localhost:8080/"
        },
        "id": "9748b132",
        "outputId": "5933feb0-aa61-4dba-ccd7-7b7eefdfbc02"
      },
      "outputs": [
        {
          "name": "stdout",
          "output_type": "stream",
          "text": [
            "0.7607641146171926 0.8614255394411037 0.7517363790708442 0.8028517266957883\n"
          ]
        }
      ],
      "source": [
        "print(sgd1,sgd2,sgd3,sgd4)"
      ]
    },
    {
      "cell_type": "markdown",
      "id": "RFEqb4x_pO9m",
      "metadata": {
        "id": "RFEqb4x_pO9m"
      },
      "source": [
        "DECISION TREE CLASSIFIER"
      ]
    },
    {
      "cell_type": "code",
      "execution_count": 66,
      "id": "zt4jSiKvpFpI",
      "metadata": {
        "id": "zt4jSiKvpFpI"
      },
      "outputs": [],
      "source": [
        "from sklearn.tree import DecisionTreeClassifier\n",
        "dt=DecisionTreeClassifier()"
      ]
    },
    {
      "cell_type": "code",
      "execution_count": 67,
      "id": "T5jBGW4Qq8go",
      "metadata": {
        "colab": {
          "base_uri": "https://localhost:8080/"
        },
        "id": "T5jBGW4Qq8go",
        "outputId": "2bcb4852-92bb-430d-ba71-ff5dceb8cc66"
      },
      "outputs": [
        {
          "data": {
            "text/plain": [
              "DecisionTreeClassifier()"
            ]
          },
          "execution_count": 67,
          "metadata": {},
          "output_type": "execute_result"
        }
      ],
      "source": [
        "dt.fit(x_train,y_train)"
      ]
    },
    {
      "cell_type": "code",
      "execution_count": 68,
      "id": "sNrn2tB1sIYQ",
      "metadata": {
        "id": "sNrn2tB1sIYQ"
      },
      "outputs": [],
      "source": [
        "y_pred5=dt.predict(x_test)"
      ]
    },
    {
      "cell_type": "code",
      "execution_count": 69,
      "id": "2ETocmUuw5T9",
      "metadata": {
        "id": "2ETocmUuw5T9"
      },
      "outputs": [],
      "source": [
        "dt1=accuracy_score(y_pred5,y_test)\n",
        "dt2=precision_score(y_pred5,y_test)\n",
        "dt3=recall_score(y_pred5,y_test)\n",
        "dt4=f1_score(y_pred5,y_test)"
      ]
    },
    {
      "cell_type": "code",
      "execution_count": 70,
      "id": "phflyWpQsRxs",
      "metadata": {
        "colab": {
          "base_uri": "https://localhost:8080/"
        },
        "id": "phflyWpQsRxs",
        "outputId": "5126be2f-26c2-4785-dae0-ec7bf0edd7e2"
      },
      "outputs": [
        {
          "name": "stdout",
          "output_type": "stream",
          "text": [
            "0.6856028404260639 0.7285107888220729 0.7191619380183326 0.7238061766902429\n"
          ]
        }
      ],
      "source": [
        "print(dt1,dt2,dt3,dt4)"
      ]
    },
    {
      "cell_type": "markdown",
      "id": "38c4d0MSBHbQ",
      "metadata": {
        "id": "38c4d0MSBHbQ"
      },
      "source": [
        "RANDOM FOREST CLASSIFIER"
      ]
    },
    {
      "cell_type": "code",
      "execution_count": 71,
      "id": "MVwWFLplA262",
      "metadata": {
        "id": "MVwWFLplA262"
      },
      "outputs": [],
      "source": [
        "from sklearn.ensemble import RandomForestClassifier  "
      ]
    },
    {
      "cell_type": "code",
      "execution_count": 72,
      "id": "RvE07phgA-2m",
      "metadata": {
        "id": "RvE07phgA-2m"
      },
      "outputs": [],
      "source": [
        "rfc= RandomForestClassifier()    "
      ]
    },
    {
      "cell_type": "code",
      "execution_count": 73,
      "id": "QHuX1Mp3BEad",
      "metadata": {
        "colab": {
          "base_uri": "https://localhost:8080/"
        },
        "id": "QHuX1Mp3BEad",
        "outputId": "54e08fbe-6977-4656-ec3b-d90ea9efadf5"
      },
      "outputs": [
        {
          "data": {
            "text/plain": [
              "RandomForestClassifier()"
            ]
          },
          "execution_count": 73,
          "metadata": {},
          "output_type": "execute_result"
        }
      ],
      "source": [
        "rfc.fit(x_train, y_train)"
      ]
    },
    {
      "cell_type": "code",
      "execution_count": 74,
      "id": "Dr5tX3tDsFLH",
      "metadata": {
        "id": "Dr5tX3tDsFLH"
      },
      "outputs": [],
      "source": [
        "y_pred6=rfc.predict(x_test)"
      ]
    },
    {
      "cell_type": "code",
      "execution_count": 75,
      "id": "vtoDkiyMsMI4",
      "metadata": {
        "id": "vtoDkiyMsMI4"
      },
      "outputs": [],
      "source": [
        "rfc1=accuracy_score(y_pred6,y_test)\n",
        "rfc2=precision_score(y_pred6,y_test)\n",
        "rfc3=recall_score(y_pred6,y_test)\n",
        "rfc4=f1_score(y_pred6,y_test)"
      ]
    },
    {
      "cell_type": "code",
      "execution_count": 76,
      "id": "fd4Jj1D2sTgq",
      "metadata": {
        "colab": {
          "base_uri": "https://localhost:8080/"
        },
        "id": "fd4Jj1D2sTgq",
        "outputId": "0820f5b0-bd5d-4a7c-a20c-1216172e0838"
      },
      "outputs": [
        {
          "data": {
            "text/plain": [
              "(0.7573135970395559, 0.8368411743898125, 0.7588004169673643, 0.795912359645065)"
            ]
          },
          "execution_count": 76,
          "metadata": {},
          "output_type": "execute_result"
        }
      ],
      "source": [
        "rfc1,rfc2,rfc3,rfc4"
      ]
    },
    {
      "cell_type": "code",
      "execution_count": 77,
      "id": "xhUWh6Ags34o",
      "metadata": {
        "id": "xhUWh6Ags34o"
      },
      "outputs": [],
      "source": [
        "from sklearn.svm import SVC"
      ]
    },
    {
      "cell_type": "code",
      "execution_count": 78,
      "id": "urN2kZRes6qc",
      "metadata": {
        "id": "urN2kZRes6qc"
      },
      "outputs": [],
      "source": [
        "svm=SVC()"
      ]
    },
    {
      "cell_type": "code",
      "execution_count": 79,
      "id": "ejilbmDPs8z8",
      "metadata": {
        "colab": {
          "base_uri": "https://localhost:8080/"
        },
        "id": "ejilbmDPs8z8",
        "outputId": "5ae3de1a-ecc5-4492-8c09-66fb4ec59e3d"
      },
      "outputs": [
        {
          "data": {
            "text/plain": [
              "SVC()"
            ]
          },
          "execution_count": 79,
          "metadata": {},
          "output_type": "execute_result"
        }
      ],
      "source": [
        "svm.fit(x_train,y_train)"
      ]
    },
    {
      "cell_type": "code",
      "execution_count": 80,
      "id": "OTpld58qtArY",
      "metadata": {
        "id": "OTpld58qtArY"
      },
      "outputs": [],
      "source": [
        "y_pred7=svm.predict(x_test)"
      ]
    },
    {
      "cell_type": "code",
      "execution_count": 81,
      "id": "a3YhTw7LtGQr",
      "metadata": {
        "id": "a3YhTw7LtGQr"
      },
      "outputs": [],
      "source": [
        "svm1=accuracy_score(y_pred7,y_test)\n",
        "svm2=precision_score(y_pred7,y_test)\n",
        "svm3=recall_score(y_pred7,y_test)\n",
        "svm4=f1_score(y_pred7,y_test)"
      ]
    },
    {
      "cell_type": "code",
      "execution_count": 82,
      "id": "nEgSEjB5tNgS",
      "metadata": {
        "colab": {
          "base_uri": "https://localhost:8080/"
        },
        "id": "nEgSEjB5tNgS",
        "outputId": "1e87835d-ac0e-4178-de00-a2f0c66b6c61"
      },
      "outputs": [
        {
          "data": {
            "text/plain": [
              "(0.7796169425413813,\n",
              " 0.8458613371064733,\n",
              " 0.7821571673889933,\n",
              " 0.8127628839699196)"
            ]
          },
          "execution_count": 82,
          "metadata": {},
          "output_type": "execute_result"
        }
      ],
      "source": [
        "svm1,svm2,svm3,svm4"
      ]
    },
    {
      "cell_type": "code",
      "execution_count": 83,
      "id": "ePdk9ovuKtn9",
      "metadata": {
        "colab": {
          "base_uri": "https://localhost:8080/"
        },
        "id": "ePdk9ovuKtn9",
        "outputId": "aec2972d-dd37-4cb9-8b77-c869b7bf7a73"
      },
      "outputs": [
        {
          "data": {
            "text/plain": [
              "['svm_joblib2']"
            ]
          },
          "execution_count": 83,
          "metadata": {},
          "output_type": "execute_result"
        }
      ],
      "source": [
        "import joblib\n",
        "filename='svm_joblib2'\n",
        "joblib.dump(svm,filename)"
      ]
    },
    {
      "cell_type": "code",
      "execution_count": 84,
      "id": "VY4AEk0fK51M",
      "metadata": {
        "id": "VY4AEk0fK51M"
      },
      "outputs": [],
      "source": [
        "#filename='ens_joblib2'\n",
        "#joblib.dump(ens,filename)"
      ]
    },
    {
      "cell_type": "code",
      "execution_count": 85,
      "id": "4ca0a664",
      "metadata": {
        "id": "4ca0a664"
      },
      "outputs": [],
      "source": [
        "from sklearn.ensemble import VotingClassifier"
      ]
    },
    {
      "cell_type": "code",
      "execution_count": 86,
      "id": "6t7DkW6x5gIy",
      "metadata": {
        "id": "6t7DkW6x5gIy"
      },
      "outputs": [],
      "source": [
        "from sklearn.naive_bayes import GaussianNB"
      ]
    },
    {
      "cell_type": "code",
      "execution_count": 87,
      "id": "a3Fx2HTl1hcZ",
      "metadata": {
        "id": "a3Fx2HTl1hcZ"
      },
      "outputs": [],
      "source": [
        "one=LogisticRegression(max_iter=250)\n",
        "two=SGDClassifier()\n",
        "three=SVC()\n",
        "four=DecisionTreeClassifier()"
      ]
    },
    {
      "cell_type": "code",
      "execution_count": 88,
      "id": "fO1ucb_F1vx8",
      "metadata": {
        "id": "fO1ucb_F1vx8"
      },
      "outputs": [],
      "source": [
        "ens=VotingClassifier(estimators=[('Logistic',one),('SVM',three)],voting='hard')"
      ]
    },
    {
      "cell_type": "code",
      "execution_count": 89,
      "id": "OiwIHitm2G0u",
      "metadata": {
        "colab": {
          "base_uri": "https://localhost:8080/"
        },
        "id": "OiwIHitm2G0u",
        "outputId": "d8943482-01f5-4fe0-8e2e-ac6109a6debf"
      },
      "outputs": [
        {
          "data": {
            "text/plain": [
              "VotingClassifier(estimators=[('Logistic', LogisticRegression(max_iter=250)),\n",
              "                             ('SVM', SVC())])"
            ]
          },
          "execution_count": 89,
          "metadata": {},
          "output_type": "execute_result"
        }
      ],
      "source": [
        "ens.fit(x_train,y_train)"
      ]
    },
    {
      "cell_type": "code",
      "execution_count": 90,
      "id": "mP__JdQ-3I68",
      "metadata": {
        "id": "mP__JdQ-3I68"
      },
      "outputs": [],
      "source": [
        "ens_y_pred=ens.predict(x_test)"
      ]
    },
    {
      "cell_type": "code",
      "execution_count": 91,
      "id": "Z_mfXGJT2_nM",
      "metadata": {
        "colab": {
          "base_uri": "https://localhost:8080/"
        },
        "id": "Z_mfXGJT2_nM",
        "outputId": "eec5ba44-09e1-456b-acfa-34378d55100c"
      },
      "outputs": [
        {
          "name": "stdout",
          "output_type": "stream",
          "text": [
            "0.7793669050357553\n"
          ]
        }
      ],
      "source": [
        "print(accuracy_score(ens_y_pred,y_test))"
      ]
    },
    {
      "cell_type": "code",
      "execution_count": 104,
      "id": "57pZ35HCsn_F",
      "metadata": {
        "id": "57pZ35HCsn_F"
      },
      "outputs": [],
      "source": [
        "ens1=accuracy_score(ens_y_pred,y_test)\n",
        "ens2=precision_score(ens_y_pred,y_test)\n",
        "ens3=recall_score(ens_y_pred,y_test)\n",
        "ens4=f1_score(ens_y_pred,y_test)"
      ]
    },
    {
      "cell_type": "code",
      "execution_count": 105,
      "id": "oN7CfNrwEdq2",
      "metadata": {
        "colab": {
          "base_uri": "https://localhost:8080/"
        },
        "id": "oN7CfNrwEdq2",
        "outputId": "cdf4d029-4925-45c5-cbf5-fd08888591d9"
      },
      "outputs": [
        {
          "data": {
            "text/plain": [
              "(0.7793669050357553,\n",
              " 0.8306508666430845,\n",
              " 0.7899915895710681,\n",
              " 0.8098111906198809)"
            ]
          },
          "execution_count": 105,
          "metadata": {},
          "output_type": "execute_result"
        }
      ],
      "source": [
        "ens1,ens2,ens3,ens4"
      ]
    },
    {
      "cell_type": "code",
      "execution_count": 94,
      "id": "tfnVHzTz8JkN",
      "metadata": {
        "id": "tfnVHzTz8JkN"
      },
      "outputs": [],
      "source": [
        "ens2=VotingClassifier(estimators=[('Logistic',one),('SGD',two)],voting='hard')"
      ]
    },
    {
      "cell_type": "code",
      "execution_count": 95,
      "id": "IyjIKjge8i4H",
      "metadata": {
        "colab": {
          "base_uri": "https://localhost:8080/"
        },
        "id": "IyjIKjge8i4H",
        "outputId": "1a0616b0-1125-41b0-e4ed-76bc855e619f"
      },
      "outputs": [
        {
          "data": {
            "text/plain": [
              "VotingClassifier(estimators=[('Logistic', LogisticRegression(max_iter=250)),\n",
              "                             ('SGD', SGDClassifier())])"
            ]
          },
          "execution_count": 95,
          "metadata": {},
          "output_type": "execute_result"
        }
      ],
      "source": [
        "ens2.fit(x_train,y_train)"
      ]
    },
    {
      "cell_type": "code",
      "execution_count": 96,
      "id": "u202_SAB8mgs",
      "metadata": {
        "id": "u202_SAB8mgs"
      },
      "outputs": [],
      "source": [
        "ens2_y_pred=ens2.predict(x_test)"
      ]
    },
    {
      "cell_type": "code",
      "execution_count": 97,
      "id": "_0FoK3Jq8rso",
      "metadata": {
        "colab": {
          "base_uri": "https://localhost:8080/"
        },
        "id": "_0FoK3Jq8rso",
        "outputId": "a1fd02ae-151a-408f-d6b7-ca3c16b2d938"
      },
      "outputs": [
        {
          "name": "stdout",
          "output_type": "stream",
          "text": [
            "0.7725658848827324\n"
          ]
        }
      ],
      "source": [
        "print(accuracy_score(ens2_y_pred,y_test))"
      ]
    },
    {
      "cell_type": "code",
      "execution_count": 98,
      "id": "2wTc-oJW9SVy",
      "metadata": {
        "id": "2wTc-oJW9SVy"
      },
      "outputs": [],
      "source": [
        "ens3=VotingClassifier(estimators=[('Logistic',one),('SGD',two),('NB',three),('DT',four)],voting='hard')"
      ]
    },
    {
      "cell_type": "code",
      "execution_count": 101,
      "id": "I9_aSS6rIRjX",
      "metadata": {
        "id": "I9_aSS6rIRjX"
      },
      "outputs": [],
      "source": [
        "dt1=accuracy_score(y_pred5,y_test) \n",
        "dt2=precision_score(y_pred5,y_test) \n",
        "dt3=recall_score(y_pred5,y_test) \n",
        "dt4=f1_score(y_pred5,y_test)"
      ]
    },
    {
      "cell_type": "markdown",
      "id": "3uhP2A5gAiZE",
      "metadata": {
        "id": "3uhP2A5gAiZE"
      },
      "source": [
        "----------------------------------------------------------------------------------------"
      ]
    },
    {
      "cell_type": "markdown",
      "id": "I4t9X3PCIh2p",
      "metadata": {
        "id": "I4t9X3PCIh2p"
      },
      "source": [
        "pip install pyvi"
      ]
    },
    {
      "cell_type": "code",
      "execution_count": 106,
      "id": "d83bd8d5",
      "metadata": {
        "colab": {
          "base_uri": "https://localhost:8080/",
          "height": 662
        },
        "id": "d83bd8d5",
        "outputId": "83aad487-2fce-44ce-c5b3-b4e62fa94e79"
      },
      "outputs": [
        {
          "data": {
            "text/plain": [
              "Text(0.5, 1.0, 'Representation of measures')"
            ]
          },
          "execution_count": 106,
          "metadata": {},
          "output_type": "execute_result"
        },
        {
          "data": {
            "image/png": "[encoded data removed]",
            "text/plain": [
              "<Figure size 720x576 with 1 Axes>"
            ]
          },
          "metadata": {
            "needs_background": "light"
          },
          "output_type": "display_data"
        }
      ],
      "source": [
        "graph=pd.DataFrame({\"accuracy\":[lrc1,nb1,sgd1,xgb1,dt1,rfc1,svm1,ens1],\n",
        "                    \"precision\":[lrc2,nb2,sgd2,xgb2,dt2,rfc2,svm2,ens2],\n",
        "                     \"recall\":[lrc3,nb3,sgd3,xgb3,dt3,rfc3,svm3,ens3],\n",
        "                     \"f1_score\":[lrc4,nb4,sgd4,xgb4,dt4,rfc4,svm4,ens4]},\n",
        "                  index=[\"Logistic Regression\",\"Naive Bayes\",\"Stochastic Gradient Descent\",\"Gradient Boosting Machine\",\"Decision Tree\",\"Random Forest\",\"Support Vector Machine\",\"Voting Classifier\"])\n",
        "graph.plot(kind='bar',figsize=(10,8))\n",
        "plt.xlabel(\"Algorithms\")\n",
        "plt.ylabel(\"Percentage\")\n",
        "plt.title(\"Representation of measures\")"
      ]
    },
    {
      "cell_type": "code",
      "execution_count": 107,
      "id": "28aaa4fa",
      "metadata": {
        "colab": {
          "base_uri": "https://localhost:8080/"
        },
        "id": "28aaa4fa",
        "outputId": "b61e7c32-adb1-4a51-920d-efe9645dcdab"
      },
      "outputs": [
        {
          "name": "stdout",
          "output_type": "stream",
          "text": [
            "+------------+----------+-----------+--------+----------+\n",
            "| Algorithms | Accuracy | Precision | Recall | F1_Score |\n",
            "+------------+----------+-----------+--------+----------+\n",
            "|     NB     |   74.1   |    88.6   |  72.1  |   79.5   |\n",
            "|     LR     |   77.4   |    84.1   |  77.8  |   80.8   |\n",
            "|    SGD     |   76.1   |    86.1   |  75.2  |   80.3   |\n",
            "|     GB     |   69.3   |    89.1   |  67.2  |   76.7   |\n",
            "|     DT     |   68.6   |    72.9   |  71.9  |   72.4   |\n",
            "|     RF     |   75.7   |    83.7   |  75.9  |   79.6   |\n",
            "|    SVM     |   78.0   |    84.6   |  78.2  |   81.3   |\n",
            "|     VC     |   77.9   |    83.1   |  79.0  |   81.0   |\n",
            "+------------+----------+-----------+--------+----------+\n"
          ]
        }
      ],
      "source": [
        "from prettytable import PrettyTable\n",
        "\n",
        "Table = PrettyTable([\"Algorithms\", \"Accuracy\", \"Precision\", \"Recall\",\"F1_Score\"])\n",
        "\n",
        "\n",
        "Table.add_row([\"NB\", round(nb1*100,1),round(nb2*100,1),round(nb3*100,1),round(nb4*100,1)])\n",
        "Table.add_row([\"LR\", round(lrc1*100,1),round(lrc2*100,1),round(lrc3*100,1),round(lrc4*100,1)])\n",
        "Table.add_row([\"SGD\", round(sgd1*100,1),round(sgd2*100,1),round(sgd3*100,1),round(sgd4*100,1)])\n",
        "Table.add_row([\"GB\", round(xgb1*100,1),round(xgb2*100,1),round(xgb3*100,1),round(xgb4*100,1)])\n",
        "Table.add_row([\"DT\", round(dt1*100,1),round(dt2*100,1),round(dt3*100,1),round(dt4*100,1)])\n",
        "Table.add_row([\"RF\", round(rfc1*100,1),round(rfc2*100,1),round(rfc3*100,1),round(rfc4*100,1)])\n",
        "Table.add_row([\"SVM\", round(svm1*100,1),round(svm2*100,1),round(svm3*100,1),round(svm4*100,1)])\n",
        "Table.add_row([\"VC\", round(ens1*100,1),round(ens2*100,1),round(ens3*100,1),round(ens4*100,1)])\n",
        "print(Table) "
      ]
    },
    {
      "cell_type": "code",
      "execution_count": 164,
      "id": "f8f680c8",
      "metadata": {
        "colab": {
          "base_uri": "https://localhost:8080/"
        },
        "id": "f8f680c8",
        "outputId": "5b9cec07-cf90-4bec-a7e6-5c0034ee25ab"
      },
      "outputs": [
        {
          "name": "stdout",
          "output_type": "stream",
          "text": [
            "[0]\n"
          ]
        }
      ],
      "source": [
        "text=np.array(['Trip was not very much fun'])\n",
        "text_vector=vectorizer.transform(text)\n",
        "sgdop=lrc.predict(text_vector)\n",
        "print(sgdop)"
      ]
    },
    {
      "cell_type": "code",
      "execution_count": 165,
      "id": "23838e5d",
      "metadata": {
        "colab": {
          "base_uri": "https://localhost:8080/"
        },
        "id": "23838e5d",
        "outputId": "277279cb-d353-4f1c-cb23-2ede2ed1b4c3"
      },
      "outputs": [
        {
          "name": "stdout",
          "output_type": "stream",
          "text": [
            "[1]\n"
          ]
        }
      ],
      "source": [
        "text=np.array(['Today is good'])\n",
        "text_vector=vectorizer.transform(text)\n",
        "lrcop=ens.predict(text_vector)\n",
        "print(lrcop)"
      ]
    },
    {
      "cell_type": "code",
      "execution_count": 166,
      "id": "OZ_459Ap3MMH",
      "metadata": {
        "colab": {
          "base_uri": "https://localhost:8080/"
        },
        "id": "OZ_459Ap3MMH",
        "outputId": "1c8444e8-15cf-44fb-a1ee-0a8904f1fa50"
      },
      "outputs": [
        {
          "name": "stdout",
          "output_type": "stream",
          "text": [
            "[0]\n"
          ]
        }
      ],
      "source": [
        "text1=np.array([\"today is not very much good\"])\n",
        "text_vector=vectorizer.transform(text1)\n",
        "lrop=svm.predict(text_vector)\n",
        "print(lrop)"
      ]
    }
  ],
  "metadata": {
    "accelerator": "GPU",
    "colab": {
      "collapsed_sections": [],
      "name": "MiniProject .ipynb",
      "provenance": []
    },
    "gpuClass": "standard",
    "kernelspec": {
      "display_name": "Python 3 (ipykernel)",
      "language": "python",
      "name": "python3"
    },
    "language_info": {
      "codemirror_mode": {
        "name": "ipython",
        "version": 3
      },
      "file_extension": ".py",
      "mimetype": "text/x-python",
      "name": "python",
      "nbconvert_exporter": "python",
      "pygments_lexer": "ipython3",
      "version": "3.9.7"
    }
  },
  "nbformat": 4,
  "nbformat_minor": 5
}
